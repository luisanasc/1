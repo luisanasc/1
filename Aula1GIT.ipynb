{
 "cells": [
  {
   "cell_type": "markdown",
   "metadata": {},
   "source": [
    "# 1 - Estruturas de Repetição\n",
    "\n",
    "### Introdução\n",
    "* É comum a repetição de procedimentos para realizar tarefas.\n",
    "* Estes procedimentos não são repetidos eternamente, se encerram quando o objetivo é atingido.\n",
    "* A estrutura de Controle de Repetição é utilizada\n",
    "quando se deseja que um determinado conjunto de instruções ou comandos sejam executados um número definido ou indefinido de vezes, ou enquanto uma terminada condição prevalecer ou até que seja alcançada.\n",
    "\n",
    "### Introdução – Exemplos de repetição\n",
    "* Uma pessoa apertando o parafuso, gira a chave de fenda até que o parafuso esteja apertado o suficiente. A cada volta, é verificado se já está bem firme.\n",
    "* Uma instrução para ler um arquivo com 100 registros, enquanto não chegar ao final não para.\n",
    "* Calcular a média do registro de notas de 100 alunos \n",
    "* Fazer 1000 chamadas a um site específico.\n",
    "\n",
    "### Características\n",
    "* Todas as estruturas de repetição têm uma característica comum:\n",
    "    * O fato de haver uma verificação de condição para determinar se a repetição prossegue ou não.\n",
    "    * Em vez de fazermos um trabalho braçal, escrevendo a mesma instrução várias vezes, podemos utilizar `uma estrutura que indique que tal instrução será executada quantas vezes for necessária`.\n",
    "    \n",
    "* As estruturas de repetição são também chamadas de Laços ou Loops.\n",
    "* Quanto ao critério de parada, os laços podem utilizar:\n",
    "    * Repetição com Teste no Início;\n",
    "    * Repetição com Teste no Final ou\n",
    "    * Repetição com Variáveis de Controle.\n",
    "* As estruturas que podemos utilizar são:\n",
    "    * enquanto...faca\n",
    "    * repita...Ate\n",
    "    * para...faça"
   ]
  },
  {
   "cell_type": "markdown",
   "metadata": {},
   "source": [
    "# 1.1 - Estruturas de Repetição com Teste no início\n",
    "* Repetição com Teste no Início\n",
    "* Neste caso a condição de teste é verificada antes de cada execução, se é “permitido” executar o trecho do algoritmo ou não.\n",
    "* Trata-se de um laço que se mantém repetindo enquanto uma dada condição permanecer verdadeira.\n",
    "* No python a estrutura utilizada para teste no início é o `while` (em português, while significa enquanto)\n",
    "    * `while` condição:\n",
    "    * _____Instruções"
   ]
  },
  {
   "cell_type": "code",
   "execution_count": null,
   "metadata": {},
   "outputs": [],
   "source": [
    "numero = 0"
   ]
  },
  {
   "cell_type": "code",
   "execution_count": null,
   "metadata": {},
   "outputs": [],
   "source": [
    "numero < 3"
   ]
  },
  {
   "cell_type": "code",
   "execution_count": null,
   "metadata": {},
   "outputs": [],
   "source": [
    "# Cria a variável numero com valor 0\n",
    "numero = 0\n",
    "\n",
    "# Cria a estrutura de repetição que será executada enquanto a variável numero for menor do que 3\n",
    "while numero < 3:\n",
    "    # Aqui embaixo irão as intruções do que será executado enquanto a variável numero for menor que 3\n",
    "    # Repare que assim como no if, também utilizamos um tab de distância\n",
    "    # Irá fazer o print do número\n",
    "    print(numero)\n",
    "    # Irá acrescentar mais uma unidade a variável número\n",
    "    numero +=1"
   ]
  },
  {
   "cell_type": "code",
   "execution_count": null,
   "metadata": {},
   "outputs": [],
   "source": [
    "numero"
   ]
  },
  {
   "cell_type": "code",
   "execution_count": null,
   "metadata": {},
   "outputs": [],
   "source": [
    "# Cria a variável numero com valor 5\n",
    "numero = 5\n",
    "\n",
    "# Cria a estrutura de repetição que será executada enquanto a variável numero for menor do que 3\n",
    "while numero < 3:\n",
    "    # Aqui embaixo irão as intruções do que será executado enquanto a variável numero for menor que 3\n",
    "    # Repare que assim como no if, também utilizamos um tab de distância\n",
    "\n",
    "    # Irá fazer o print do número\n",
    "    print(numero)\n",
    "\n",
    "    # Irá acrescentar mais uma unidade a variável número\n",
    "    numero +=1\n",
    "\n",
    "# Repare que nada foi executado pois o teste no início verificou que a variável numero é maior que 3"
   ]
  },
  {
   "cell_type": "markdown",
   "metadata": {},
   "source": [
    "Assim como na estrutura condicional do if, o while só sera executado se a determinada verificação for verdadeira.\n",
    "\n",
    "Na estrutura de repetição com o teste no início, caso a verificação seja falsa, nada será executado."
   ]
  },
  {
   "cell_type": "markdown",
   "metadata": {},
   "source": [
    "### Exemplo 1:\n",
    "Solicitar números ao usuário até que ele digite 0"
   ]
  },
  {
   "cell_type": "code",
   "execution_count": null,
   "metadata": {},
   "outputs": [],
   "source": [
    "# Cria a variável número que solicitará um valor ao usuário\n",
    "numero = int(input('Digite um número inteiro ou 0 para encerrar o programa'))\n",
    "\n",
    "# Loop será executado enquanto a variável número for diferente de 0\n",
    "while numero != 0:\n",
    "    # Solicita novamente que o usuário digite outro valor para a variável número\n",
    "    numero = int(input('Digite um número inteiro ou 0 para encerrar o programa'))"
   ]
  },
  {
   "cell_type": "markdown",
   "metadata": {},
   "source": [
    "Diferente da estrutura if, caso queira acrescentar mais de uma condição para o `while`, é necessário que as condições estejam entre parênteses"
   ]
  },
  {
   "cell_type": "markdown",
   "metadata": {},
   "source": [
    "### Exemplo 2:\n",
    "Programa que peça uma nota, entre zero e dez. Mostre uma mensagem caso o valor seja inválido e continue pedindo até que o usuário informe um valor válido."
   ]
  },
  {
   "cell_type": "code",
   "execution_count": null,
   "metadata": {},
   "outputs": [],
   "source": [
    "# Cria a variável nota e solicita que o usuário digite a nota\n",
    "nota = float(input('Digite uma nota de 0 até 10'))\n",
    "\n",
    "# Verifica se a nota está entre 0 e 10\n",
    "while (nota < 0) or (nota > 10):\n",
    "    # Caso a nota seja menor que 0 ou maior que 10 irá solicitar novamente que o usuário digite a nota\n",
    "    nota = float(input('Digite uma nota de 0 até 10'))"
   ]
  },
  {
   "cell_type": "markdown",
   "metadata": {},
   "source": [
    "# 1.2 - Estruturas de Repetição com Teste no Final\n",
    "* Repetição com Teste no final\n",
    "* Funciona de forma similar ao comando enquanto exceto pelo fato de que a condição de controle só é testada após a execução do bloco de instruções.\n",
    "* Isso garante que os comandos serão executados pelo menos uma vez.\n",
    "\n",
    "No python não existe uma estrutura de repetição para isto. O que pode ser feito é uma adaptação da estrutura While que será sempre verdadeira e iremos utilizar o comando `break` dentro de um if para encerrar o loop"
   ]
  },
  {
   "cell_type": "code",
   "execution_count": null,
   "metadata": {},
   "outputs": [],
   "source": [
    "nota > 5"
   ]
  },
  {
   "cell_type": "code",
   "execution_count": null,
   "metadata": {},
   "outputs": [],
   "source": [
    "True"
   ]
  },
  {
   "cell_type": "code",
   "execution_count": null,
   "metadata": {},
   "outputs": [],
   "source": [
    "# Cria a variável numero com valor 0\n",
    "numero = 0\n",
    "# Criamos uma estrutura de repetição que sempre será verdadeira\n",
    "while True:\n",
    "    # Irá fazer o print do número\n",
    "    print(numero)\n",
    "    # Irá acrescentar mais uma unidade a variável número\n",
    "    numero +=1\n",
    "    # O if faz a função de verificar a determinada condição\n",
    "    if numero >= 5:\n",
    "        break"
   ]
  },
  {
   "cell_type": "code",
   "execution_count": null,
   "metadata": {},
   "outputs": [],
   "source": [
    "# Cria a variável numero com valor 0\n",
    "numero = 5\n",
    "\n",
    "# Criamos uma estrutura de repetição que sempre será verdadeira\n",
    "while True:\n",
    "    # Irá fazer o print do número\n",
    "    # Irá acrescentar mais uma unidade a variável número\n",
    "    numero +=1\n",
    "    print(numero)\n",
    "    # O if faz a função de verificar a determinada condição\n",
    "    if numero >= 3:\n",
    "        break"
   ]
  },
  {
   "cell_type": "markdown",
   "metadata": {},
   "source": [
    "Repare no código que mesmo a variável numero sendo maior que 3, o while foi executado uma vez, exibindo o valor da variável numero"
   ]
  },
  {
   "cell_type": "markdown",
   "metadata": {},
   "source": [
    "# 1.3 - Estrutura de Repetição com variável de controle\n",
    "* A estrutura de repetição com variáveis de controle é um pouco diferente das outras estruturas, pois ele não precisa de um índice sendo incrementado no corpo do laço. \n",
    "\n",
    "* Na estrutura para...faça, a variável de controle é inicializada com valor inicial e no início de cada iteração, seu valor é comparado com valor final.\n",
    "\n",
    "* Se o valor da variável for menor ou igual a valor final, a lista de comandos é executada e após ser executado o último comando da lista, a variável de controle é incrementada.\n",
    "\n",
    "* No python, a estrutura de repetição para...faça é representada apenas pela palavra `for`.\n",
    "\n",
    "* Na estrutura de repetição `for` podem ser definidor 3 parâmetros:\n",
    "    * O valor Inicial (Não Obrigatório); \n",
    "    * O valor Final (Obrigatório);\n",
    "    * O passo (Não é obrigatório, mas só pode ser definido se tiver o início e o final)"
   ]
  },
  {
   "cell_type": "code",
   "execution_count": null,
   "metadata": {},
   "outputs": [],
   "source": [
    "# Nesta estrutura, não é necessário criar e definir um valor para uma variável antes da estrutura.\n",
    "\n",
    "# Na própri estrutura definimos o nome de uma variável que irá receber os valores do loop\n",
    "# Criamos uma estrutura que tem o início em 0, fim em 10 e o passo 1\n",
    "for var in range(0,10,1):\n",
    "    print(var)\n",
    "# Repare que o valor final não será executado"
   ]
  },
  {
   "cell_type": "markdown",
   "metadata": {},
   "source": [
    "A nossa variável var irá receber os valores de 0 até 10. A cada execução a var irá receber um novo valor e será executado o print do valor atribuído à var"
   ]
  },
  {
   "cell_type": "code",
   "execution_count": null,
   "metadata": {},
   "outputs": [],
   "source": [
    "# Criamos uma estrutura que tem o início em 0, fim em 10 e o passo 2\n",
    "for var in range(0,10,2):\n",
    "    print(var)\n",
    "# Repare que o valor final não será executado"
   ]
  },
  {
   "cell_type": "markdown",
   "metadata": {},
   "source": [
    "Agora com o passo definido para 2, a nossa var percorreu os valores de 0 até 9, mas andando de 2 em 2 posições.\n",
    "Na primeira execução a var foi 0, em seguida andou duas posições e foi 4, em seguida mais duas posições..."
   ]
  },
  {
   "cell_type": "code",
   "execution_count": null,
   "metadata": {},
   "outputs": [],
   "source": [
    "# Criamos uma estrutura que tem o início em 0, fim em 10 e o passo 3\n",
    "for var in range(0,10,3):\n",
    "    print(var)"
   ]
  },
  {
   "cell_type": "markdown",
   "metadata": {},
   "source": [
    "Como informado anteriormente, o valor do passo não é obrigatório e, caso ele não seja definido, por padrão será adimitido o valor 1"
   ]
  },
  {
   "cell_type": "code",
   "execution_count": null,
   "metadata": {},
   "outputs": [],
   "source": [
    "# Criamos uma estrutura que tem o início em 1, fim em 4 e o passo 1 (não está definido, então por padrão é 1)\n",
    "for var in range(1,4):\n",
    "    print(var)"
   ]
  },
  {
   "cell_type": "code",
   "execution_count": null,
   "metadata": {},
   "outputs": [],
   "source": [
    "# Criamos uma estrutura que tem o início em 1, fim em 4 e o passo 1 \n",
    "for var in range(1,4,1):\n",
    "    print(var)"
   ]
  },
  {
   "cell_type": "code",
   "execution_count": null,
   "metadata": {},
   "outputs": [],
   "source": [
    "# Criamos uma estrutura que tem o início em 0  (não está definido, então por padrão é 10, fim em 4 e o passo 1 (não está definido, então por padrão é 1)\n",
    "for var in range(4):\n",
    "    print(var)"
   ]
  },
  {
   "cell_type": "code",
   "execution_count": null,
   "metadata": {},
   "outputs": [],
   "source": [
    "# Criamos uma estrutura que tem o início em 0, fim em 4 e o passo 1 (não está definido, então por padrão é 1)\n",
    "for var in range(0,4):\n",
    "    print(var)"
   ]
  },
  {
   "cell_type": "code",
   "execution_count": null,
   "metadata": {},
   "outputs": [],
   "source": [
    "for var in range(10):\n",
    "    print(var)"
   ]
  },
  {
   "cell_type": "code",
   "execution_count": null,
   "metadata": {},
   "outputs": [],
   "source": [
    "# Criamos uma estrutura que tem o início em 0, fim em 4 e o passo 1 \n",
    "for var in range(0,4,1):\n",
    "    print(var)"
   ]
  },
  {
   "cell_type": "markdown",
   "metadata": {},
   "source": [
    "Também mencionado anteriormente, o único valor obrigatório é o Final.\n",
    "\n",
    "Caso não seja definido o início, por padrão será zero e o passo 1"
   ]
  },
  {
   "cell_type": "markdown",
   "metadata": {},
   "source": [
    "# 2 - Exercícios"
   ]
  },
  {
   "cell_type": "markdown",
   "metadata": {},
   "source": [
    "1 - Faça um algoritmo para Imprimir a tabuada do número 5"
   ]
  },
  {
   "cell_type": "code",
   "execution_count": null,
   "metadata": {},
   "outputs": [],
   "source": [
    "# Desenvolva seu código aqui\n",
    "for var in range(0,11):\n",
    "    print(f'5 x {var} = {5 * var}')"
   ]
  },
  {
   "cell_type": "markdown",
   "metadata": {},
   "source": [
    "2 - Faça um algoritmo que leia um número inteiro e mostre o seu dobro na tela. O programa deve executar até o usuário digitar 0."
   ]
  },
  {
   "cell_type": "code",
   "execution_count": null,
   "metadata": {},
   "outputs": [],
   "source": [
    "# Desenvolva seu código aqui\n"
   ]
  },
  {
   "cell_type": "markdown",
   "metadata": {},
   "source": [
    "3 - Faça um algoritmo que some valores até o usuário digitar o valor 0 (usar a estrutura enquanto). "
   ]
  },
  {
   "cell_type": "code",
   "execution_count": null,
   "metadata": {},
   "outputs": [],
   "source": [
    "# Desenvolva seu código aqui\n"
   ]
  },
  {
   "cell_type": "markdown",
   "metadata": {},
   "source": [
    "4 – Escreva uma algoritmo que some 10 números. Esse algoritmo deverá perguntar ao usuário qual é o número e no final mostra o valor da soma."
   ]
  },
  {
   "cell_type": "code",
   "execution_count": null,
   "metadata": {},
   "outputs": [],
   "source": [
    "# Desenvolva seu código aqui\n"
   ]
  },
  {
   "cell_type": "markdown",
   "metadata": {},
   "source": [
    "5 - Escreva um algoritmo que calcule a média dos números digitados pelo usuário, se eles forem pares. Termine a leitura se o usuário digitar zero (0)"
   ]
  },
  {
   "cell_type": "code",
   "execution_count": null,
   "metadata": {},
   "outputs": [],
   "source": [
    "# Desenvolva seu código aqui\n",
    "\n"
   ]
  },
  {
   "cell_type": "markdown",
   "metadata": {},
   "source": [
    "6 - Escreva um programa que lido um número, calcule e informe o seu fatorial. Ex.: 5! = 5 * 4 * 3 * 2 * 1 = 120."
   ]
  },
  {
   "cell_type": "code",
   "execution_count": null,
   "metadata": {},
   "outputs": [],
   "source": [
    "# Desenvolva seu código aqui\n"
   ]
  },
  {
   "cell_type": "markdown",
   "metadata": {},
   "source": [
    "7 – Escreva um algoritmo que verifique e imprima os números pares contidos entre 1 e 100"
   ]
  },
  {
   "cell_type": "code",
   "execution_count": null,
   "metadata": {},
   "outputs": [],
   "source": [
    "# Desenvolva seu código aqui\n"
   ]
  },
  {
   "cell_type": "markdown",
   "metadata": {},
   "source": [
    "8 - Faça um programa que peça três notas, faça a média e, caso a média seja menor que 0 ou maior que 10, mostre uma mensagem informando valor inválido e continue pedindo as 3 notas e calculando a média até que o usuário informe valores que resultem uma média válida."
   ]
  },
  {
   "cell_type": "code",
   "execution_count": null,
   "metadata": {},
   "outputs": [],
   "source": [
    "# Desenvolva seu código aqui\n"
   ]
  },
  {
   "cell_type": "markdown",
   "metadata": {},
   "source": [
    "9 - Faça um programa que leia um nome de usuário e a sua senha e não aceite a senha igual ao nome do usuário, mostrando uma mensagem de erro e voltando a pedir as informações."
   ]
  },
  {
   "cell_type": "code",
   "execution_count": null,
   "metadata": {},
   "outputs": [],
   "source": [
    "# Desenvolva seu código aqui\n"
   ]
  },
  {
   "cell_type": "markdown",
   "metadata": {},
   "source": [
    "10 - Faça um programa que leia e valide as seguintes informações:\n",
    "* Nome: maior que 3 caracteres;\n",
    "* Idade: entre 0 e 150;\n",
    "* Salário: maior que zero;\n",
    "* Sexo: 'f' ou 'm';\n",
    "* Estado Civil: 's', 'c', 'v', 'd';\n",
    "* Use a função len(string) para saber o tamanho de um texto (número de caracteres).\n",
    "\n",
    "Continue solicitando as informações até que todas as condições sejam satisfeitas.\n",
    "\n",
    "Dica: Utilize mais de uma estrutura while "
   ]
  },
  {
   "cell_type": "code",
   "execution_count": null,
   "metadata": {},
   "outputs": [],
   "source": [
    "# Desenvolva seu código aqui\n",
    "nome = input('Digite seu nome')\n"
   ]
  },
  {
   "cell_type": "markdown",
   "metadata": {},
   "source": [
    "11 - Faça um programa que imprima na tela apenas os números ímpares entre 1 e 50."
   ]
  },
  {
   "cell_type": "code",
   "execution_count": null,
   "metadata": {},
   "outputs": [],
   "source": [
    "# Desenvolva seu código aqui\n"
   ]
  },
  {
   "cell_type": "markdown",
   "metadata": {},
   "source": [
    "12 - Faça um programa que receba dois números inteiros e exiba os números pares que estão no intervalo compreendido por eles."
   ]
  },
  {
   "cell_type": "code",
   "execution_count": null,
   "metadata": {},
   "outputs": [],
   "source": [
    "# Desenvolva seu código aqui\n",
    "\n"
   ]
  },
  {
   "cell_type": "markdown",
   "metadata": {},
   "source": [
    "13 - Desenvolva um gerador de tabuada, capaz de gerar a tabuada de qualquer número inteiro entre 1 a 10. O usuário deve informar de qual numero ele deseja"
   ]
  },
  {
   "cell_type": "code",
   "execution_count": null,
   "metadata": {},
   "outputs": [],
   "source": [
    "# Desenvolva seu código aqui\n"
   ]
  },
  {
   "cell_type": "markdown",
   "metadata": {},
   "source": [
    "14 - Faça um programa que peça 10 números inteiros, calcule e mostre a quantidade de números pares e a quantidade de números ímpares."
   ]
  },
  {
   "cell_type": "code",
   "execution_count": null,
   "metadata": {},
   "outputs": [],
   "source": [
    "# Desenvolva seu código aqui\n"
   ]
  },
  {
   "cell_type": "markdown",
   "metadata": {},
   "source": [
    "15 - A sequência de Fibonacci é formada pela sequência 1,1,2,3,5,8,13,21,34,55,... Faça um programa capaz de gerar a série até 500.\n",
    "OBS: Na sequência de Fibonacci, o próximo número é sempre a soma dos dois números anteriores\n",
    "\n",
    "1 + 0 = 1\n",
    "\n",
    "1 + 1 = 2\n",
    "\n",
    "2 + 1 = 3\n",
    "\n",
    "3 + 2 = 5\n",
    "\n",
    "5 + 3 = 8\n"
   ]
  },
  {
   "cell_type": "code",
   "execution_count": null,
   "metadata": {},
   "outputs": [],
   "source": [
    "# Desenvolva seu código aqui\n",
    "\n"
   ]
  },
  {
   "cell_type": "markdown",
   "metadata": {},
   "source": [
    "16 - Faça um programa que solicite ao usuário a quantidade de notas que ele deseja calcular a média, em seguida solicite a quantidade de notas digitadas e calcule a média."
   ]
  },
  {
   "cell_type": "code",
   "execution_count": null,
   "metadata": {},
   "outputs": [],
   "source": [
    "# Desenvolva seu código aqui\n"
   ]
  },
  {
   "cell_type": "markdown",
   "metadata": {},
   "source": [
    "17 - Numa eleição existem três candidatos. Faça um programa que peça o número total de eleitores. Peça para cada eleitor votar e ao final mostrar o número de votos de cada candidato."
   ]
  },
  {
   "cell_type": "code",
   "execution_count": null,
   "metadata": {},
   "outputs": [],
   "source": [
    "# Desenvolva seu código aqui\n"
   ]
  },
  {
   "cell_type": "markdown",
   "metadata": {},
   "source": [
    "18 - Faça um programa que solicite a quantidade de turmas de ADS, em seguida solicite quantoas alunos cada turma possui e calcule a quantidade média de alunos por turma."
   ]
  },
  {
   "cell_type": "code",
   "execution_count": null,
   "metadata": {},
   "outputs": [],
   "source": [
    "# Desenvolva seu código aqui\n"
   ]
  },
  {
   "cell_type": "markdown",
   "metadata": {},
   "source": [
    "19 - Faça um programa que calcule o valor total investido por um colecionador em sua coleção de CDs e o valor médio gasto em cada um deles. O usuário deverá informar a quantidade de CDs e o valor para em cada um."
   ]
  },
  {
   "cell_type": "code",
   "execution_count": null,
   "metadata": {},
   "outputs": [],
   "source": [
    "# Desenvolva seu código aqui\n"
   ]
  },
  {
   "cell_type": "markdown",
   "metadata": {},
   "source": [
    "20 - Uma loja onde todos os produtos são R$1,99 te contratou para criar um programa que solicite quantos itens o cliente esta levando e retorne o valor total da compra. O programa deve permanecer em execução até que seja digitado 0."
   ]
  },
  {
   "cell_type": "code",
   "execution_count": null,
   "metadata": {},
   "outputs": [],
   "source": [
    "# Desenvolva seu código aqui\n"
   ]
  },
  {
   "cell_type": "code",
   "execution_count": null,
   "metadata": {},
   "outputs": [],
   "source": []
  }
 ],
 "metadata": {
  "kernelspec": {
   "display_name": "Python 3.9.12 ('base')",
   "language": "python",
   "name": "python3"
  },
  "language_info": {
   "codemirror_mode": {
    "name": "ipython",
    "version": 3
   },
   "file_extension": ".py",
   "mimetype": "text/x-python",
   "name": "python",
   "nbconvert_exporter": "python",
   "pygments_lexer": "ipython3",
   "version": "3.12.2"
  },
  "orig_nbformat": 4,
  "vscode": {
   "interpreter": {
    "hash": "f43ba6cefd8f24580ff42e8af3aabb69fa421e7aad4e479f4a62a25e10b01fe1"
   }
  }
 },
 "nbformat": 4,
 "nbformat_minor": 2
}
