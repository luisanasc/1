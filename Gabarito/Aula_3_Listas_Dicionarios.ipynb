{
 "cells": [
  {
   "cell_type": "markdown",
   "metadata": {},
   "source": [
    "# Aula 3 - Listas e Dicionários\n",
    "\n",
    "### Regras para criação de qualquer variável\n",
    "* Nome da variável ``não pode``:\n",
    "    * Começar com números;\n",
    "    * Conter espaço;\n",
    "    * Conter ou começar com caracteres especiais (`:'\",<>/?|\\!@#%^&*~-+`), exceto `_` (\"Underline\");\n",
    "    * Ser uma palavra que faz parte do python(True, False, while, for, in, list, str...).\n",
    "\n",
    "#\n",
    "* Nome da variável ``pode``:\n",
    "    * Começar com letras maiúsculas ou minúsculas;\n",
    "    * Conter ou começar com _ (\"Underline\").\n",
    "\n",
    "#\n",
    "* Boas práticas para nome de variáveis:\n",
    "    * Todas letras minúsculas;\n",
    "    * Nomes compostos separados por _  (\"Underline\");\n",
    "    * Evitar criar nomes com caracteres únicos (a, A, b, B, c, C...);\n",
    "    * Dar nomes intuitivos para as variáveis.\n",
    "\n",
    "### Criação/Atribuição de variáveis\n",
    "A criação/atribuição de variáveis segue `nome_da_variavel = valor_da_variavel`, onde um único sinal de igual `=` é um \"operador de atribuição\"\n",
    "\n",
    "#\n",
    "##### OBS_1: \n",
    "O Python é uma linguagem `Case-Sensitive`. Significa que variáveis de mesmo nome, mas com maiúsculas ou minúsculas diferentes, são variáveis diferentes. \n",
    "\n",
    "EX: a variável `nome` é diferente da variável `Nome` que também é diferente da variável `NOME`\n",
    "\n",
    "# Principais Tipos de Variáveis:\n",
    "* int - Algarismos numéricos inteiros;\n",
    "* float - Algarismos numéricos decimais (ponto flutuante);\n",
    "* str - Caracteres que formam palavras, frases e textos;\n",
    "* bool - Expressões que representam verdadeiro (True) ou falso (False);\n",
    "* datetime - Datas e Horas\n",
    "* list - listas que podem agrupar todos os outros tipos de variáveis;\n",
    "* dict - Dicionário que estabelece relação de chave e valor entre elementos.\n",
    "* dataframe - Tabelas\n",
    "\n",
    "#\n",
    "##### OBS_2: \n",
    "Este tipo de programação é estruturado em jupyter notebook, o que permite compilar individualmente trexos de códigos em \"células\".\n",
    "#\n",
    "Dicas para utilizar o jupyter notebook:\n",
    "* Uma \"célula\" de \"Markdown\" serve apenas para escrever textos;\n",
    "* Uma \"célula\" de \"Código\" serve para rodar códigos em python;\n",
    "* Nas células de código, todas as linhas que começam com # são comentários no código e não afetam o código:\n",
    "* Para executar o código de uma \"célula\", pressionar \"Ctrl\" + \"Enter\";\n",
    "* Para executar o código de uma \"célula\" e passar para a próxima célula, pressionar \"Shift\" + \"Enter\".\n",
    "\n",
    "### Neste Notebook veremos:\n",
    "    1.) Revisão das listas\n",
    "    2.) Indexação das variáveis de texto\n",
    "    3.) Criação e manipulação de listas\n",
    "    4.) Exercícios de Fixação"
   ]
  },
  {
   "cell_type": "markdown",
   "metadata": {},
   "source": [
    "# 1 - Revisão de Listas"
   ]
  },
  {
   "cell_type": "markdown",
   "metadata": {},
   "source": [
    "### 1.1 - Operações com listas"
   ]
  },
  {
   "cell_type": "code",
   "execution_count": 4,
   "metadata": {},
   "outputs": [],
   "source": [
    "# Criar uma lista\n",
    "lista_1 = [1, 5, 14, 8]\n",
    "lista_1"
   ]
  },
  {
   "cell_type": "code",
   "execution_count": 6,
   "metadata": {},
   "outputs": [
    {
     "data": {
      "text/plain": [
       "[1, 5, 8, 14]"
      ]
     },
     "execution_count": 6,
     "metadata": {},
     "output_type": "execute_result"
    }
   ],
   "source": [
    "# Ordenar a lista em ordem crescente\n",
    "lista_1.sort()\n",
    "lista_1"
   ]
  },
  {
   "cell_type": "code",
   "execution_count": 7,
   "metadata": {},
   "outputs": [
    {
     "data": {
      "text/plain": [
       "[14, 8, 5, 1]"
      ]
     },
     "execution_count": 7,
     "metadata": {},
     "output_type": "execute_result"
    }
   ],
   "source": [
    "# Inverter a ordem da lista\n",
    "lista_1.reverse()\n",
    "lista_1"
   ]
  },
  {
   "cell_type": "code",
   "execution_count": 8,
   "metadata": {},
   "outputs": [
    {
     "data": {
      "text/plain": [
       "[14, 8, 5, 1, 7]"
      ]
     },
     "execution_count": 8,
     "metadata": {},
     "output_type": "execute_result"
    }
   ],
   "source": [
    "# Acrescentar um elemento no final da lista\n",
    "lista_1.append(7)\n",
    "lista_1"
   ]
  },
  {
   "cell_type": "code",
   "execution_count": 9,
   "metadata": {},
   "outputs": [
    {
     "data": {
      "text/plain": [
       "[14, 8, 5, 1, 7, 4, 3]"
      ]
     },
     "execution_count": 9,
     "metadata": {},
     "output_type": "execute_result"
    }
   ],
   "source": [
    "# Acrescentar os valores de outra lista no final da lista\n",
    "\n",
    "# Cria a lista_2\n",
    "lista_2 = [4, 3]\n",
    "\n",
    "# Acrescentar os valores da lista_2 no final da lista_1\n",
    "lista_1.extend(lista_2)\n",
    "lista_1"
   ]
  },
  {
   "cell_type": "code",
   "execution_count": 10,
   "metadata": {},
   "outputs": [
    {
     "data": {
      "text/plain": [
       "[14, 8, 5, 1, 7, 4, 3, [4, 3, 2]]"
      ]
     },
     "execution_count": 10,
     "metadata": {},
     "output_type": "execute_result"
    }
   ],
   "source": [
    "# Acrescentar os outra lista no final da lista\n",
    "\n",
    "# Cria a lista_2\n",
    "lista_2 = [4, 3, 2]\n",
    "\n",
    "# Acrescentar a lista_2 no final da lista_1\n",
    "lista_1.append(lista_2)\n",
    "lista_1"
   ]
  },
  {
   "cell_type": "markdown",
   "metadata": {},
   "source": [
    "### 1.2 - \"Navegar\" na lista"
   ]
  },
  {
   "cell_type": "code",
   "execution_count": 11,
   "metadata": {},
   "outputs": [
    {
     "data": {
      "text/plain": [
       "[14, 8, 5, 1, 7, 4, 3, [4, 3, 2]]"
      ]
     },
     "execution_count": 11,
     "metadata": {},
     "output_type": "execute_result"
    }
   ],
   "source": [
    "lista_1"
   ]
  },
  {
   "cell_type": "code",
   "execution_count": 12,
   "metadata": {},
   "outputs": [
    {
     "data": {
      "text/plain": [
       "14"
      ]
     },
     "execution_count": 12,
     "metadata": {},
     "output_type": "execute_result"
    }
   ],
   "source": [
    "# Exibir o primeiro elemento da lista\n",
    "lista_1[0]"
   ]
  },
  {
   "cell_type": "code",
   "execution_count": 13,
   "metadata": {},
   "outputs": [
    {
     "data": {
      "text/plain": [
       "8"
      ]
     },
     "execution_count": 13,
     "metadata": {},
     "output_type": "execute_result"
    }
   ],
   "source": [
    "# Exibir o segundo elemento da lista\n",
    "lista_1[1]"
   ]
  },
  {
   "cell_type": "code",
   "execution_count": 14,
   "metadata": {},
   "outputs": [
    {
     "data": {
      "text/plain": [
       "[14, 8]"
      ]
     },
     "execution_count": 14,
     "metadata": {},
     "output_type": "execute_result"
    }
   ],
   "source": [
    "# Exibir os dois primeiros elemento da lista\n",
    "lista_1[0:2]"
   ]
  },
  {
   "cell_type": "code",
   "execution_count": 15,
   "metadata": {},
   "outputs": [
    {
     "data": {
      "text/plain": [
       "[5, 1, 7, 4]"
      ]
     },
     "execution_count": 15,
     "metadata": {},
     "output_type": "execute_result"
    }
   ],
   "source": [
    "# Exibir os do terceiro ao quinto elemento da lista\n",
    "lista_1[2:6]"
   ]
  },
  {
   "cell_type": "code",
   "execution_count": 16,
   "metadata": {},
   "outputs": [
    {
     "data": {
      "text/plain": [
       "[14, 8, 5, 1, 7, 4, 3, [4, 3, 2]]"
      ]
     },
     "execution_count": 16,
     "metadata": {},
     "output_type": "execute_result"
    }
   ],
   "source": [
    "# Repare que o último elemento da lista é outra lista\n",
    "lista_1"
   ]
  },
  {
   "cell_type": "code",
   "execution_count": 17,
   "metadata": {},
   "outputs": [
    {
     "data": {
      "text/plain": [
       "[4, 3, 2]"
      ]
     },
     "execution_count": 17,
     "metadata": {},
     "output_type": "execute_result"
    }
   ],
   "source": [
    "# Exibir o último elemento da lista\n",
    "lista_1[-1]"
   ]
  },
  {
   "cell_type": "code",
   "execution_count": 23,
   "metadata": {},
   "outputs": [
    {
     "data": {
      "text/plain": [
       "[4, 3, 2]"
      ]
     },
     "execution_count": 23,
     "metadata": {},
     "output_type": "execute_result"
    }
   ],
   "source": [
    "# Outra forma de exibir o último elemento da lista (Está na posição 7)\n",
    "lista_1[7]"
   ]
  },
  {
   "cell_type": "code",
   "execution_count": 25,
   "metadata": {},
   "outputs": [
    {
     "data": {
      "text/plain": [
       "4"
      ]
     },
     "execution_count": 25,
     "metadata": {},
     "output_type": "execute_result"
    }
   ],
   "source": [
    "# Navegar em lista dentro de lista\n",
    "# Exibir o primeiro elemento da lista que está na última posição da lista_1\n",
    "lista_1[7][0]"
   ]
  },
  {
   "cell_type": "code",
   "execution_count": 26,
   "metadata": {},
   "outputs": [
    {
     "data": {
      "text/plain": [
       "3"
      ]
     },
     "execution_count": 26,
     "metadata": {},
     "output_type": "execute_result"
    }
   ],
   "source": [
    "# Navegar em lista dentro de lista\n",
    "# Exibir o segundo elemento da lista que está na última posição da lista_1\n",
    "lista_1[7][1]"
   ]
  },
  {
   "cell_type": "markdown",
   "metadata": {},
   "source": [
    "### 1.3 - Revisão dos exercícios"
   ]
  },
  {
   "cell_type": "code",
   "execution_count": 27,
   "metadata": {},
   "outputs": [
    {
     "data": {
      "text/plain": [
       "'Caixa'"
      ]
     },
     "execution_count": 27,
     "metadata": {},
     "output_type": "execute_result"
    }
   ],
   "source": [
    "# 3.4 - Retorne a palavra 'Caixa' da lista de palavras\n",
    "\n",
    "lista_de_palavras = [1,'cinco', 72, ' Celular', 'Caixa']\n",
    "\n",
    "lista_de_palavras[-1]"
   ]
  },
  {
   "cell_type": "code",
   "execution_count": 28,
   "metadata": {},
   "outputs": [
    {
     "name": "stdout",
     "output_type": "stream",
     "text": [
      "Eu estou aprendendo Python\n"
     ]
    }
   ],
   "source": [
    "### 3.5 - Texto da lista\n",
    "\n",
    "#    Crie uma variável que receberá a palavra ``Eu`` da lista_de_palavras\n",
    "#    Crie uma variável que receberá a palavra ``estou`` da lista_de_palavras\n",
    "#    Crie uma variável que receberá a palavra ``aprendendo`` da lista_de_palavras\n",
    "#    Crie uma variável que receberá a palavra ``Python`` da lista_de_palavras\n",
    "#    Crie uma variável que receberá a palavra ``' '`` da lista_de_palavras\n",
    "\n",
    "# Apenas com as variáveis criadas, exiba a frase 'Eu estou aprendendo Python' \n",
    "\n",
    "lista_de_palavras = ['Python', 'aprendendo', 'estou', 'Eu', ' ']\n",
    "\n",
    "# Cria  variável eu que irá receber o ítem na posição 3 da lista 'Eu'\n",
    "eu = lista_de_palavras[3]\n",
    "\n",
    "# Cria  variável eu que irá receber o ítem na posição 2 da lista 'estou'\n",
    "estou = lista_de_palavras[2]\n",
    "\n",
    "# Cria  variável eu que irá receber o ítem na posição 1 da lista 'aprendendo'\n",
    "ap = lista_de_palavras[1]\n",
    "\n",
    "# Cria  variável eu que irá receber o ítem na posição 0 da lista 'Python'\n",
    "py = lista_de_palavras[0]\n",
    "\n",
    "# Cria  variável eu que irá receber o ítem na posição 4 da lista ' ' (espaço)\n",
    "es = lista_de_palavras[4]\n",
    "\n",
    "# Concatena as variáveis \n",
    "print(eu + es + estou + es + ap + es + py)"
   ]
  },
  {
   "cell_type": "code",
   "execution_count": 29,
   "metadata": {},
   "outputs": [
    {
     "name": "stdout",
     "output_type": "stream",
     "text": [
      "Parabéns pelo dia internacional da mulher!\n"
     ]
    }
   ],
   "source": [
    "### 3.6 - Dia internacional da mulher\n",
    "# Com a lista_palavras, exiba a frase 'Parabéns pelo dia internacional da mulher!' utilizando indexação de lista \n",
    "#\n",
    "# Dica: \n",
    "\n",
    "#     lista_palavras[0] = 'da'\n",
    "#     lista_palavras[1] = ' '\n",
    "#     lista_palavras[2] = 'mulher'\n",
    "#     lista_palavras[0] + lista_palavras[1] + lista_palavras[2] = 'da mulher'\n",
    "lista_palavras = ['da', ' ', 'mulher', 'internacional', '!', 'dia', 'pelo', 'Parabéns']\n",
    "\n",
    "da = lista_palavras[0] \n",
    "esp = lista_palavras[1] \n",
    "mulher = lista_palavras[2] \n",
    "internacional = lista_palavras[3] \n",
    "esc = lista_palavras[4] \n",
    "dia = lista_palavras[5] \n",
    "pelo = lista_palavras[6] \n",
    "parabens = lista_palavras[7] \n",
    "\n",
    "\n",
    "frase = parabens + esp + pelo+ esp + dia + esp + internacional + esp + da+ esp + mulher + esc\n",
    "\n",
    "print(frase)"
   ]
  },
  {
   "cell_type": "code",
   "execution_count": 36,
   "metadata": {},
   "outputs": [
    {
     "name": "stdout",
     "output_type": "stream",
     "text": [
      "O carro tem 4 rodas\n"
     ]
    }
   ],
   "source": [
    "### 3.7 - Com a lista_de_listas, exiba a frase 'O carro tem 4 rodas' utilizando indexação de lista \n",
    "\n",
    "lista_de_listas = [1,'O','garrafa', 'e',['rodas','4', 'cinco', 'tem',['sapato', ' ','bancos',17]],'carro']\n",
    "\n",
    "\n",
    "\n",
    "palavra_1 = lista_de_listas[1]\n",
    "palavra_2 = lista_de_listas[-1]\n",
    "palavra_3 = lista_de_listas[4][3]\n",
    "palavra_4 = lista_de_listas[4][1]\n",
    "palavra_5 = lista_de_listas[4][0]\n",
    "esp = lista_de_listas[4][4][1]\n",
    "\n",
    "frase = palavra_1 + esp + palavra_2 + esp + palavra_3 + esp + palavra_4 + esp + palavra_5\n",
    "\n",
    "print(frase) "
   ]
  },
  {
   "cell_type": "code",
   "execution_count": 37,
   "metadata": {},
   "outputs": [
    {
     "name": "stdout",
     "output_type": "stream",
     "text": [
      "O carro tem cinco bancos\n"
     ]
    }
   ],
   "source": [
    "### 3.8 - Com a lista_de_listas, exiba a frase 'O carro tem cinco bancos' utilizando indexação de lista \n",
    "\n",
    "lista_de_listas = [1,'O','garrafa', 'e',['rodas','4', 'cinco', 'tem',['sapato', ' ','bancos',17]],'carro']\n",
    "\n",
    "palavra_1 = lista_de_listas[1]\n",
    "palavra_2 = lista_de_listas[-1]\n",
    "palavra_3 = lista_de_listas[4][3]\n",
    "palavra_4 = lista_de_listas[4][2]\n",
    "palavra_5 = lista_de_listas[4][4][2]\n",
    "esp = lista_de_listas[4][4][1]\n",
    "\n",
    "frase = palavra_1 + esp + palavra_2 + esp + palavra_3 + esp + palavra_4 + esp + palavra_5\n",
    "\n",
    "print(frase) "
   ]
  },
  {
   "cell_type": "code",
   "execution_count": 35,
   "metadata": {},
   "outputs": [
    {
     "name": "stdout",
     "output_type": "stream",
     "text": [
      "O carro tem 4 rodas e cinco bancos\n"
     ]
    }
   ],
   "source": [
    "### 3.9 - Com a lista_de_listas, exiba a frase 'O carro tem 4 rodas e cinco bancos' utilizando indexação de lista \n",
    "\n",
    "lista_de_listas = [1,'O','garrafa', 'e',['rodas','4', 'cinco', 'tem',['sapato', ' ','bancos',17]],'carro']\n",
    "\n",
    "\n",
    "palavra_1 = lista_de_listas[1]\n",
    "palavra_2 = lista_de_listas[-1]\n",
    "palavra_3 = lista_de_listas[4][3]\n",
    "palavra_4 = lista_de_listas[4][1]\n",
    "palavra_5 = lista_de_listas[4][0]\n",
    "palavra_6 = lista_de_listas[3]\n",
    "palavra_7 = lista_de_listas[4][2]\n",
    "palavra_8 = lista_de_listas[4][4][2]\n",
    "esp = lista_de_listas[4][4][1]\n",
    "\n",
    "frase = palavra_1 + esp + palavra_2 + esp + palavra_3 + esp + palavra_4 + esp + palavra_5 + esp + palavra_6 + esp + palavra_7 + esp + palavra_8\n",
    "\n",
    "\n",
    "print(frase) "
   ]
  },
  {
   "cell_type": "markdown",
   "metadata": {},
   "source": [
    "# 2 - Dicionários\n",
    "\n",
    "Documentação https://docs.python.org/3/tutorial/datastructures.html#dictionaries\n",
    "\n",
    "Nós aprendemos sobre *sequências* em Python, mas agora vamos mudar de marcha e aprender sobre *mapeamentos* em Python.\n",
    "\n",
    "### Esta seção servirá como uma breve introdução aos dicionários e consiste em:\n",
    "    1.) Construindo um dicionário\n",
    "    2.) Acessando objetos de um dicionário\n",
    "    3.) Dicionários de aninhamento\n",
    "    4.) Métodos básicos do dicionário\n",
    "    \n",
    "\n",
    "Então, o que são mapeamentos? Mapeamentos são uma coleção de objetos que são armazenados por uma **chave**, diferente de uma sequência que armazena objetos por sua posição relativa. Essa é uma distinção importante, pois os mapeamentos não mantêm a ordem, pois possuem objetos definidos por uma chave.\n",
    "\n",
    "Um dicionário Python consiste em uma chave e depois em um valor associado. Esse valor pode ser quase qualquer objeto Python.\n",
    "\n",
    "\n",
    "## Construindo um dicionário\n",
    "Vamos ver como podemos construir dicionários para entender melhor como eles funcionam!"
   ]
  },
  {
   "cell_type": "code",
   "execution_count": 48,
   "metadata": {},
   "outputs": [],
   "source": [
    "# Crie um dicionário com {} e : para significar uma chave e um valor\n",
    "\n",
    "meu_dicionario = {'chave1':'valor1','chave2':'valor2'} "
   ]
  },
  {
   "cell_type": "code",
   "execution_count": 40,
   "metadata": {},
   "outputs": [
    {
     "data": {
      "text/plain": [
       "{'chave1': 'valor1', 'chave2': 'valor2'}"
      ]
     },
     "execution_count": 40,
     "metadata": {},
     "output_type": "execute_result"
    }
   ],
   "source": [
    "# Exibe o dicionário criado\n",
    "meu_dicionario"
   ]
  },
  {
   "cell_type": "code",
   "execution_count": 45,
   "metadata": {},
   "outputs": [
    {
     "data": {
      "text/plain": [
       "'valor1 duwhduwf'"
      ]
     },
     "execution_count": 45,
     "metadata": {},
     "output_type": "execute_result"
    }
   ],
   "source": [
    "# Exibe o valor associado à 'chave1'\n",
    "meu_dicionario['chave1']"
   ]
  },
  {
   "cell_type": "code",
   "execution_count": 46,
   "metadata": {},
   "outputs": [
    {
     "data": {
      "text/plain": [
       "'valor2'"
      ]
     },
     "execution_count": 46,
     "metadata": {},
     "output_type": "execute_result"
    }
   ],
   "source": [
    "# Exibe o valor associado à 'chave2'\n",
    "meu_dicionario['chave2']"
   ]
  },
  {
   "cell_type": "code",
   "execution_count": 49,
   "metadata": {},
   "outputs": [
    {
     "data": {
      "text/plain": [
       "{'chave1': 'valor1', 'chave2': 'valor2', 'chave3': [1, 2, 3, 4, 5]}"
      ]
     },
     "execution_count": 49,
     "metadata": {},
     "output_type": "execute_result"
    }
   ],
   "source": [
    "# Acrescenta uma nova sequencia de chave e valor no meu_dicionario\n",
    "meu_dicionario['chave3'] = [1,2,3,4,5]\n",
    "\n",
    "# Exibe o Dicionário\n",
    "meu_dicionario"
   ]
  },
  {
   "cell_type": "code",
   "execution_count": 51,
   "metadata": {},
   "outputs": [
    {
     "data": {
      "text/plain": [
       "[1, 2, 3, 4, 5]"
      ]
     },
     "execution_count": 51,
     "metadata": {},
     "output_type": "execute_result"
    }
   ],
   "source": [
    "# Exibe o valor associado à 'chave3'\n",
    "meu_dicionario['chave3']"
   ]
  },
  {
   "cell_type": "code",
   "execution_count": 52,
   "metadata": {},
   "outputs": [
    {
     "data": {
      "text/plain": [
       "[1, 2]"
      ]
     },
     "execution_count": 52,
     "metadata": {},
     "output_type": "execute_result"
    }
   ],
   "source": [
    "# É possível navegar dentro da lista presente no dicionário\n",
    "\n",
    "# Exibe os primeiros valores da lista associada à 'chave3'\n",
    "meu_dicionario['chave3'][0:2]"
   ]
  },
  {
   "cell_type": "markdown",
   "metadata": {},
   "source": [
    "### Para facilitar o entendimento na criação dos dicionários, podemos deixar somente uma chave e valor por linha"
   ]
  },
  {
   "cell_type": "code",
   "execution_count": 53,
   "metadata": {},
   "outputs": [
    {
     "data": {
      "text/plain": [
       "{'1': 'André', '2': 'Carlos', '3': 'Ana Beatriz', '4': 'Carla'}"
      ]
     },
     "execution_count": 53,
     "metadata": {},
     "output_type": "execute_result"
    }
   ],
   "source": [
    "# Cria o dicionário pessoas\n",
    "pessoas = {\n",
    "    '1': 'André',\n",
    "    '2': 'Carlos',\n",
    "    '3': 'Ana Beatriz',\n",
    "    '4': 'Carla'\n",
    "    }\n",
    "\n",
    "# Exibe o dicionário pessoas\n",
    "pessoas"
   ]
  },
  {
   "cell_type": "code",
   "execution_count": 54,
   "metadata": {},
   "outputs": [
    {
     "name": "stdout",
     "output_type": "stream",
     "text": [
      "André\n",
      "Carlos\n",
      "Ana Beatriz\n",
      "Carla\n"
     ]
    }
   ],
   "source": [
    "print(pessoas['1'])\n",
    "print(pessoas['2'])\n",
    "print(pessoas['3'])\n",
    "print(pessoas['4'])"
   ]
  },
  {
   "cell_type": "markdown",
   "metadata": {},
   "source": [
    "É importante observar que os dicionários são muito flexíveis nos tipos de dados que podem conter. Por exemplo:"
   ]
  },
  {
   "cell_type": "code",
   "execution_count": 55,
   "metadata": {},
   "outputs": [],
   "source": [
    "meu_dicionario = {'chave1':123,'chave2':[12,23,33],'chave3':['item0','item1','item2']}"
   ]
  },
  {
   "cell_type": "code",
   "execution_count": 56,
   "metadata": {},
   "outputs": [
    {
     "data": {
      "text/plain": [
       "{'chave1': 123, 'chave2': [12, 23, 33], 'chave3': ['item0', 'item1', 'item2']}"
      ]
     },
     "execution_count": 56,
     "metadata": {},
     "output_type": "execute_result"
    }
   ],
   "source": [
    "meu_dicionario"
   ]
  },
  {
   "cell_type": "code",
   "execution_count": 58,
   "metadata": {},
   "outputs": [
    {
     "data": {
      "text/plain": [
       "['item0', 'item1', 'item2']"
      ]
     },
     "execution_count": 58,
     "metadata": {},
     "output_type": "execute_result"
    }
   ],
   "source": [
    "meu_dicionario['chave3']"
   ]
  },
  {
   "cell_type": "code",
   "execution_count": 59,
   "metadata": {},
   "outputs": [
    {
     "name": "stdout",
     "output_type": "stream",
     "text": [
      "['item0', 'item1', 'item2']\n"
     ]
    }
   ],
   "source": [
    "# A variável lista1 esta recebendo o valor do dicionário em chave3\n",
    "lista1 = meu_dicionario['chave3']\n",
    "\n",
    "# Exibe a variável lista1\n",
    "print(lista1)"
   ]
  },
  {
   "cell_type": "code",
   "execution_count": 62,
   "metadata": {},
   "outputs": [
    {
     "data": {
      "text/plain": [
       "'item1'"
      ]
     },
     "execution_count": 62,
     "metadata": {},
     "output_type": "execute_result"
    }
   ],
   "source": [
    "# Exibe o segundo elemento da lista1\n",
    "lista1[1]"
   ]
  },
  {
   "cell_type": "code",
   "execution_count": 63,
   "metadata": {},
   "outputs": [
    {
     "data": {
      "text/plain": [
       "'item1'"
      ]
     },
     "execution_count": 63,
     "metadata": {},
     "output_type": "execute_result"
    }
   ],
   "source": [
    "# Também exibe o segundo elemento da lista1, mas sem precisar criar a variável lista1 \n",
    "meu_dicionario['chave3'][1]"
   ]
  },
  {
   "cell_type": "markdown",
   "metadata": {},
   "source": [
    "### Aninhamento de Dicionários (Dicionários dentro de Dicionários)"
   ]
  },
  {
   "cell_type": "code",
   "execution_count": 65,
   "metadata": {},
   "outputs": [],
   "source": [
    "# Dicionário aninhado dentro de um dicionário aninhado\n",
    "dici = {'chave1': {'chaveaninhada': {'subchaveaninhada': 'valor'}}}"
   ]
  },
  {
   "cell_type": "code",
   "execution_count": 66,
   "metadata": {},
   "outputs": [
    {
     "data": {
      "text/plain": [
       "{'chaveaninhada': {'subchaveaninhada': 'valor'}}"
      ]
     },
     "execution_count": 66,
     "metadata": {},
     "output_type": "execute_result"
    }
   ],
   "source": [
    "# Primeira chave\n",
    "dici['chave1']"
   ]
  },
  {
   "cell_type": "code",
   "execution_count": 67,
   "metadata": {},
   "outputs": [
    {
     "data": {
      "text/plain": [
       "{'subchaveaninhada': 'valor'}"
      ]
     },
     "execution_count": 67,
     "metadata": {},
     "output_type": "execute_result"
    }
   ],
   "source": [
    "# Segunda chave\n",
    "dici['chave1']['chaveaninhada']"
   ]
  },
  {
   "cell_type": "code",
   "execution_count": 68,
   "metadata": {},
   "outputs": [
    {
     "data": {
      "text/plain": [
       "'valor'"
      ]
     },
     "execution_count": 68,
     "metadata": {},
     "output_type": "execute_result"
    }
   ],
   "source": [
    "# Terceira chave\n",
    "dici['chave1']['chaveaninhada']['subchaveaninhada']"
   ]
  },
  {
   "cell_type": "markdown",
   "metadata": {},
   "source": [
    "### Alguns métodos importantes para dicionários"
   ]
  },
  {
   "cell_type": "code",
   "execution_count": 69,
   "metadata": {},
   "outputs": [],
   "source": [
    "# Crie um dicionário típico\n",
    "dicionario = {'chave1': 1, 'chave2': 2, 'chave3': 3}"
   ]
  },
  {
   "cell_type": "code",
   "execution_count": 70,
   "metadata": {},
   "outputs": [
    {
     "data": {
      "text/plain": [
       "dict_keys(['chave1', 'chave2', 'chave3'])"
      ]
     },
     "execution_count": 70,
     "metadata": {},
     "output_type": "execute_result"
    }
   ],
   "source": [
    "# Método para retornar uma lista de todas as chaves\n",
    "dicionario.keys()"
   ]
  },
  {
   "cell_type": "code",
   "execution_count": 71,
   "metadata": {},
   "outputs": [
    {
     "data": {
      "text/plain": [
       "dict_values([1, 2, 3])"
      ]
     },
     "execution_count": 71,
     "metadata": {},
     "output_type": "execute_result"
    }
   ],
   "source": [
    "# Método para capturar todos os valores\n",
    "dicionario.values()"
   ]
  },
  {
   "cell_type": "markdown",
   "metadata": {},
   "source": [
    "# 3 - Exercícios de Dicionário"
   ]
  },
  {
   "cell_type": "markdown",
   "metadata": {},
   "source": [
    "## 3.1 - Criar Dicionário\n",
    "    Crie um dicionário com 3 chaves e um nome para ser o valor de cada chave\n",
    "\n",
    "Ex: dicionario = {'nome1':'Júlia','nome2':...}"
   ]
  },
  {
   "cell_type": "code",
   "execution_count": 73,
   "metadata": {},
   "outputs": [
    {
     "name": "stdout",
     "output_type": "stream",
     "text": [
      "{'nome': 'Júlia', 'nome2': 'Guilherme', 'nome3': 'Antonio'}\n"
     ]
    }
   ],
   "source": [
    "# Desenvolva seu código aqui\n",
    "\n",
    "nomes = {'nome1' : 'Júlia',\n",
    "         'nome2' : 'Guilherme',\n",
    "         'nome3' : 'Antonio'\n",
    "        }\n",
    "\n",
    "print(nomes)"
   ]
  },
  {
   "cell_type": "markdown",
   "metadata": {},
   "source": [
    "## 3.2 - Criar e acrescentar dicionário:\n",
    "    Crie um dicionário com: {0: 10, 1: 20}\n",
    "    Em seguida, acrescente a chave e valor 2 : 30\n",
    "    Após acrescentar a chave e valor, exiba o dicionário\n",
    "    Resultado esperado : {0: 10, 1: 20, 2: 30}"
   ]
  },
  {
   "cell_type": "code",
   "execution_count": 77,
   "metadata": {},
   "outputs": [
    {
     "name": "stdout",
     "output_type": "stream",
     "text": [
      "{0: 10, 1: 20, 2: 30}\n"
     ]
    }
   ],
   "source": [
    "# Desenvolva seu código aqui\n",
    "# cria o Dicionário com as chaves e valores especificados\n",
    "dicionario = {0: 10, 1: 20}\n",
    "\n",
    "# Cria a chave 2 no dicionáio e acrescenta o valor 30\n",
    "dicionario[2] = 30\n",
    "\n",
    "print(dicionario)"
   ]
  },
  {
   "cell_type": "markdown",
   "metadata": {},
   "source": [
    "## 3.3 - Exiba o valor 'carro'"
   ]
  },
  {
   "cell_type": "code",
   "execution_count": 78,
   "metadata": {},
   "outputs": [
    {
     "data": {
      "text/plain": [
       "'carro'"
      ]
     },
     "execution_count": 78,
     "metadata": {},
     "output_type": "execute_result"
    }
   ],
   "source": [
    "meios_de_transporte = { 'meio_1' : 'carro',\n",
    "                        'meio_2' : 'bicicleta',\n",
    "                        'meio_3' : 'avião',\n",
    "                        'meio_4' : 'moto'}\n",
    "# Desenvolva seu código aqui\n",
    "meios_de_transporte['meio_1']"
   ]
  },
  {
   "cell_type": "markdown",
   "metadata": {},
   "source": [
    "## 3.4 - Exiba o valor 'moto'"
   ]
  },
  {
   "cell_type": "code",
   "execution_count": 79,
   "metadata": {},
   "outputs": [
    {
     "data": {
      "text/plain": [
       "'moto'"
      ]
     },
     "execution_count": 79,
     "metadata": {},
     "output_type": "execute_result"
    }
   ],
   "source": [
    "meios_de_transporte = { 'meio_1' : 'carro',\n",
    "                        'meio_2' : 'bicicleta',\n",
    "                        'meio_3' : 'avião',\n",
    "                        'meio_4' : 'moto'}\n",
    "# Desenvolva seu código aqui\n",
    "meios_de_transporte['meio_4']"
   ]
  },
  {
   "cell_type": "markdown",
   "metadata": {},
   "source": [
    "## 3.5 - Exiba o valor 'avião'"
   ]
  },
  {
   "cell_type": "code",
   "execution_count": 80,
   "metadata": {},
   "outputs": [
    {
     "data": {
      "text/plain": [
       "'avião'"
      ]
     },
     "execution_count": 80,
     "metadata": {},
     "output_type": "execute_result"
    }
   ],
   "source": [
    "meios_de_transporte = { 'meio_1' : 'carro',\n",
    "                        'meio_2' : 'bicicleta',\n",
    "                        'meio_3' : 'avião',\n",
    "                        'meio_4' : 'moto'}\n",
    "# Desenvolva seu código aqui\n",
    "meios_de_transporte['meio_3']"
   ]
  },
  {
   "cell_type": "markdown",
   "metadata": {},
   "source": [
    "## 3.6 - Exiba o valor 'Feijão'"
   ]
  },
  {
   "cell_type": "code",
   "execution_count": 84,
   "metadata": {},
   "outputs": [
    {
     "data": {
      "text/plain": [
       "'Feijão'"
      ]
     },
     "execution_count": 84,
     "metadata": {},
     "output_type": "execute_result"
    }
   ],
   "source": [
    "comidas = {'comidas':['Arroz', 'Feijão', 'Bife']}\n",
    "\n",
    "# Desenvolva seu código aqui\n",
    "comidas['comidas'][1]"
   ]
  },
  {
   "cell_type": "markdown",
   "metadata": {},
   "source": [
    "## 3.7 - Exiba o valor 'Arroz'"
   ]
  },
  {
   "cell_type": "code",
   "execution_count": 85,
   "metadata": {},
   "outputs": [
    {
     "data": {
      "text/plain": [
       "'Arroz'"
      ]
     },
     "execution_count": 85,
     "metadata": {},
     "output_type": "execute_result"
    }
   ],
   "source": [
    "comidas = {'comidas':['Arroz', 'Feijão', 'Bife']}\n",
    "\n",
    "# Desenvolva seu código aqui\n",
    "comidas['comidas'][0]"
   ]
  },
  {
   "cell_type": "markdown",
   "metadata": {},
   "source": [
    "## 3.8 - Exiba o valor 'Bife'"
   ]
  },
  {
   "cell_type": "code",
   "execution_count": 86,
   "metadata": {},
   "outputs": [
    {
     "data": {
      "text/plain": [
       "'Bife'"
      ]
     },
     "execution_count": 86,
     "metadata": {},
     "output_type": "execute_result"
    }
   ],
   "source": [
    "comidas = {'comidas':['Arroz', 'Feijão', 'Bife']}\n",
    "\n",
    "# Desenvolva seu código aqui\n",
    "comidas['comidas'][2]"
   ]
  },
  {
   "cell_type": "markdown",
   "metadata": {},
   "source": [
    "## 3.9 - Exiba o valor da chave 'remuneração'"
   ]
  },
  {
   "cell_type": "code",
   "execution_count": 88,
   "metadata": {},
   "outputs": [
    {
     "data": {
      "text/plain": [
       "18000"
      ]
     },
     "execution_count": 88,
     "metadata": {},
     "output_type": "execute_result"
    }
   ],
   "source": [
    "pessoa = {  'nome' : 'Gizele',\n",
    "            'idade' : 23,\n",
    "            'cargo' : { 'empresa' : 'Gazeta',\n",
    "                        'especificação' : 'Gerente de Marketing',\n",
    "                        'departamento' : 'Marketing Digital',\n",
    "                        'remuneração' : 18000\n",
    "                        }\n",
    "        }\n",
    "\n",
    "# Desenvolva seu código aqui\n",
    "pessoa['cargo']['remuneração']"
   ]
  },
  {
   "cell_type": "markdown",
   "metadata": {},
   "source": [
    "## 3.10 - Exiba o valor da chave 'departamento'"
   ]
  },
  {
   "cell_type": "code",
   "execution_count": 1,
   "metadata": {},
   "outputs": [
    {
     "data": {
      "text/plain": [
       "18000"
      ]
     },
     "execution_count": 1,
     "metadata": {},
     "output_type": "execute_result"
    }
   ],
   "source": [
    "pessoa = {  'nome' : 'Gizele',\n",
    "            'idade' : 23,\n",
    "            'cargo' : { 'empresa' : 'Gazeta',\n",
    "                        'especificação' : 'Gerente de Marketing',\n",
    "                        'departamento' : 'Marketing Digital',\n",
    "                        'remuneração' : 18000\n",
    "                        }\n",
    "        }\n",
    "\n",
    "# Desenvolva seu código aqui\n",
    "pessoa['cargo']['remuneração']"
   ]
  },
  {
   "cell_type": "markdown",
   "metadata": {},
   "source": [
    "## 3.11 - Exiba o valor da chave 'idade'"
   ]
  },
  {
   "cell_type": "code",
   "execution_count": 2,
   "metadata": {},
   "outputs": [
    {
     "data": {
      "text/plain": [
       "23"
      ]
     },
     "execution_count": 2,
     "metadata": {},
     "output_type": "execute_result"
    }
   ],
   "source": [
    "pessoa = {  'nome' : 'Gizele',\n",
    "            'idade' : 23,\n",
    "            'cargo' : { 'empresa' : 'Gazeta',\n",
    "                        'especificação' : 'Gerente de Marketing',\n",
    "                        'departamento' : 'Marketing Digital',\n",
    "                        'remuneração' : 18000\n",
    "                        }\n",
    "        }\n",
    "\n",
    "# Desenvolva seu código aqui\n",
    "pessoa['idade']"
   ]
  },
  {
   "cell_type": "markdown",
   "metadata": {},
   "source": [
    "## 3.12 - Exiba a palavra 'celular'"
   ]
  },
  {
   "cell_type": "code",
   "execution_count": 3,
   "metadata": {},
   "outputs": [
    {
     "data": {
      "text/plain": [
       "'celular'"
      ]
     },
     "execution_count": 3,
     "metadata": {},
     "output_type": "execute_result"
    }
   ],
   "source": [
    "dicionario_maluco = {\n",
    "    'chave_1' :[1,2,{'chave_2':['vigarista','celular']}]\n",
    "}\n",
    "# Desenvolva seu código aqui\n",
    "dicionario_maluco['chave_1'][2]['chave_2'][1]"
   ]
  },
  {
   "cell_type": "markdown",
   "metadata": {},
   "source": [
    "## 3.13 - Exiba a palavra 'vigarista'"
   ]
  },
  {
   "cell_type": "code",
   "execution_count": 105,
   "metadata": {},
   "outputs": [
    {
     "data": {
      "text/plain": [
       "'vigarista'"
      ]
     },
     "execution_count": 105,
     "metadata": {},
     "output_type": "execute_result"
    }
   ],
   "source": [
    "dicionario_maluco = {\n",
    "    'chave_1' :[1,2,{'chave_2':['vigarista','celular']}]\n",
    "}\n",
    "# Desenvolva seu código aqui\n",
    "dicionario_maluco['chave_1'][2]['chave_2'][0]"
   ]
  },
  {
   "cell_type": "markdown",
   "metadata": {},
   "source": [
    "## 3.14 - Exiba a frase 'Eu Consigo!'\n",
    "    Crie uma variável para receber o valor 'Eu'\n",
    "    Crie uma variável para receber o valor 'consigo'\n",
    "    Crie uma variável para receber o valor ' '\n",
    "    Crie uma variável para receber o valor '!'\n",
    "    Exiba a frase completa"
   ]
  },
  {
   "cell_type": "code",
   "execution_count": 121,
   "metadata": {},
   "outputs": [
    {
     "name": "stdout",
     "output_type": "stream",
     "text": [
      "Eu consigo!\n"
     ]
    }
   ],
   "source": [
    "meu_dicionario = {'chave1':123,'chave2':[12,'!',33],'chave3':['item0','item1',{'chave4':{'chave5':['Eu','consigo', ' ']}}]}\n",
    "# Desenvolva seu código aqui\n",
    "eu = meu_dicionario['chave3'][2]['chave4']['chave5'][0]\n",
    "cons = meu_dicionario['chave3'][2]['chave4']['chave5'][1]\n",
    "esp = meu_dicionario['chave3'][2]['chave4']['chave5'][2]\n",
    "esc = meu_dicionario['chave2'][1]\n",
    "\n",
    "frase = eu + esp + cons + esc\n",
    "print(frase)\n"
   ]
  },
  {
   "cell_type": "markdown",
   "metadata": {},
   "source": [
    "## 3.15 - Exiba a frase 'Foi moleza aprender dicionários e listas!'\n",
    "    Crie uma variável para receber cada palavra\n",
    "    Exiba a frase completa"
   ]
  },
  {
   "cell_type": "code",
   "execution_count": 7,
   "metadata": {},
   "outputs": [
    {
     "name": "stdout",
     "output_type": "stream",
     "text": [
      "Foi moleza aprender dicionarios e listas!\n"
     ]
    }
   ],
   "source": [
    "meu_dicionario = {  'chave1':{'outra_chave':['k', 'Foi']},\n",
    "                    'chave2':[12,'!','moleza'],\n",
    "                    'chave3':['e', 'listas', 'aprender',{'chave4':{'chave5':['dicionarios', ' ']}}]}\n",
    "# Desenvolva seu código aqui\n",
    "palavra_1 = meu_dicionario['chave1']['outra_chave'][1]\n",
    "palavra_2 = meu_dicionario['chave2'][2]\n",
    "palavra_3 = meu_dicionario['chave3'][2]\n",
    "palavra_4 = meu_dicionario['chave3'][3]['chave4']['chave5'][0]\n",
    "palavra_5 = meu_dicionario['chave3'][0]\n",
    "palavra_6 = meu_dicionario['chave3'][1]\n",
    "palavra_7 = meu_dicionario['chave2'][1]\n",
    "espaco = meu_dicionario['chave3'][3]['chave4']['chave5'][1]\n",
    "\n",
    "frase = palavra_1 + espaco + palavra_2 + espaco + palavra_3 + espaco + palavra_4 + espaco + palavra_5 + espaco + palavra_6 + palavra_7\n",
    "print(frase)\n",
    "\n"
   ]
  }
 ],
 "metadata": {
  "kernelspec": {
   "display_name": "Python 3.9.7 ('base')",
   "language": "python",
   "name": "python3"
  },
  "language_info": {
   "codemirror_mode": {
    "name": "ipython",
    "version": 3
   },
   "file_extension": ".py",
   "mimetype": "text/x-python",
   "name": "python",
   "nbconvert_exporter": "python",
   "pygments_lexer": "ipython3",
   "version": "3.9.7"
  },
  "orig_nbformat": 4,
  "vscode": {
   "interpreter": {
    "hash": "067f175f07fc265aa8d145419b6335739ee65af91da4abf8cfbfc48bca5c9b8b"
   }
  }
 },
 "nbformat": 4,
 "nbformat_minor": 2
}
