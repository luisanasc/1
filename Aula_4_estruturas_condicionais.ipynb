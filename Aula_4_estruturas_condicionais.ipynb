{
 "cells": [
  {
   "cell_type": "markdown",
   "metadata": {},
   "source": [
    "# Aula 4 - If, Else, Elif e Loop For\n",
    "\n",
    "<code>if</code> permite dizer ao computador para executar ações alternativas com base em um determinado conjunto de resultados.\n",
    "\n",
    "Verbalmente, podemos imaginar que estamos dizendo ao computador:\n",
    "\n",
    "\"Se esse caso acontecer, execute alguma ação\"\n",
    "\n",
    "Podemos então expandir ainda mais a ideia com as instruções <code>elif</code> e <code>else</code>, que nos permitem informar ao computador:\n",
    "\n",
    "\"Se esse caso acontecer, execute alguma ação. Senão, se outro caso acontecer, execute outra ação. Caso contrário, se **nenhum** dos casos acima ocorreu, execute esta ação.\"\n",
    "\n",
    "Observe o formato de sintaxe das instruções <code>if</code> para ter uma idéia melhor disso:\n",
    "\n",
    "    if caso1:\n",
    "        faça ação1\n",
    "    elif case2:\n",
    "        faça ação2\n",
    "    else: \n",
    "        faça ação3"
   ]
  },
  {
   "attachments": {},
   "cell_type": "markdown",
   "metadata": {},
   "source": [
    "# 1.1 - Operadores Relacionais\n",
    "\n",
    "Também conhecidos como operadores de comparação, comparam duas variáveis. No python temos:\n",
    "* Compara se duas variáveis são iguais `==`\n",
    "* Compara se duas variáveis são diferentes `!=`\n",
    "* Compara se uma variável é maior que outra `>`\n",
    "* Compara se uma variável é maior ou igual que outra `>=`\n",
    "* Compara se uma variável é menor que outra `<`\n",
    "* Compara se uma variável é menor ou igual que outra `<=`\n",
    "\n",
    "A resposta da comparação é em booleano, sendo True se a comparação for verdadeira, ou False se for falsa."
   ]
  },
  {
   "cell_type": "code",
   "execution_count": null,
   "metadata": {},
   "outputs": [],
   "source": [
    "# Compara se 1 é igual a 2\n",
    "1 == 2"
   ]
  },
  {
   "cell_type": "code",
   "execution_count": null,
   "metadata": {},
   "outputs": [],
   "source": [
    "# Compara se 1 é igual a 1\n",
    "1 == 1"
   ]
  },
  {
   "cell_type": "code",
   "execution_count": null,
   "metadata": {},
   "outputs": [],
   "source": [
    "# Compara se 1 é diferente de 2\n",
    "1 != 2"
   ]
  },
  {
   "cell_type": "code",
   "execution_count": null,
   "metadata": {},
   "outputs": [],
   "source": [
    "# Compara se 1 é diferente de 1\n",
    "1 != 1"
   ]
  },
  {
   "cell_type": "code",
   "execution_count": null,
   "metadata": {},
   "outputs": [],
   "source": [
    "# Compara se 1 é maior que 2\n",
    "1 > 2"
   ]
  },
  {
   "cell_type": "code",
   "execution_count": null,
   "metadata": {},
   "outputs": [],
   "source": [
    "# Compara se 1 é menor que 2\n",
    "1 < 2"
   ]
  },
  {
   "cell_type": "code",
   "execution_count": null,
   "metadata": {},
   "outputs": [],
   "source": [
    "# Compara se 2 é maior que 2\n",
    "2 > 2"
   ]
  },
  {
   "cell_type": "code",
   "execution_count": null,
   "metadata": {},
   "outputs": [],
   "source": [
    "# Compara se 2 é maior ou igual que 2\n",
    "2 >= 2"
   ]
  },
  {
   "cell_type": "code",
   "execution_count": null,
   "metadata": {},
   "outputs": [],
   "source": [
    "# Compara se 2 é menor ou igual que 2\n",
    "2 <= 2"
   ]
  },
  {
   "cell_type": "code",
   "execution_count": null,
   "metadata": {},
   "outputs": [],
   "source": [
    "# Compara se 1 é maior ou igual que 2\n",
    "1 >= 2"
   ]
  },
  {
   "cell_type": "code",
   "execution_count": null,
   "metadata": {},
   "outputs": [],
   "source": [
    "# Compara se 1 é menor ou igual que 2\n",
    "1 <= 2"
   ]
  },
  {
   "attachments": {},
   "cell_type": "markdown",
   "metadata": {},
   "source": [
    "# 1.2 - Operadores lógicos `and` - `&` (e) e `or` - `|` (ou)\n",
    "\n",
    "Com estes operadores, podemos juntar duas ou mais comparações, tendo cada um dos operadores as seguintes peculiaridades:\n",
    "\n",
    "## `and` - `&`\n",
    "* Todas as comparações necessitam ser verdadeiras para que o resultado seja verdadeiro (True)\n",
    "* Caso ao menos uma das comparações seja falsa, o resultado será falso (False)\n",
    "\n",
    "## `or` - `|`\n",
    "* Apenas uma comparação necessita ser verdadeiras para que o resultado seja verdadeiro (True)\n",
    "* Para ser falso, todas as comparações necessitam ser falsas (False)"
   ]
  },
  {
   "cell_type": "code",
   "execution_count": null,
   "metadata": {},
   "outputs": [],
   "source": [
    "# Cria a variável pessoa\n",
    "pessoa = 'Matheus'\n",
    "\n",
    "# Cria a variável numero\n",
    "numero = 4"
   ]
  },
  {
   "cell_type": "code",
   "execution_count": null,
   "metadata": {},
   "outputs": [],
   "source": [
    "# Verifica se a variável pessoa é igual a Matheus\n",
    "pessoa == 'Matheus'"
   ]
  },
  {
   "cell_type": "code",
   "execution_count": null,
   "metadata": {},
   "outputs": [],
   "source": [
    "# Verifica se a variável numero é igual a 4\n",
    "numero == 4"
   ]
  },
  {
   "cell_type": "code",
   "execution_count": null,
   "metadata": {},
   "outputs": [],
   "source": [
    "# Verifica se a variável pessoa é igual a Matheus e se a variável numero é igual a 4\n",
    "pessoa == 'Matheus' and numero == 4"
   ]
  },
  {
   "cell_type": "code",
   "execution_count": null,
   "metadata": {},
   "outputs": [],
   "source": [
    "# Verifica se a variável pessoa é igual a Matheus e se a variável numero é igual a 3\n",
    "pessoa == 'Matheus' and numero == 3"
   ]
  },
  {
   "cell_type": "code",
   "execution_count": null,
   "metadata": {},
   "outputs": [],
   "source": [
    "# Verifica se a variável pessoa é igual a Matheus ou se a variável numero é igual a 4\n",
    "pessoa == 'Matheus' or numero == 4"
   ]
  },
  {
   "cell_type": "code",
   "execution_count": null,
   "metadata": {},
   "outputs": [],
   "source": [
    "# Verifica se a variável pessoa é igual a Matheus ou se a variável numero é igual a 3\n",
    "pessoa == 'Matheus' or numero == 3"
   ]
  },
  {
   "cell_type": "code",
   "execution_count": null,
   "metadata": {},
   "outputs": [],
   "source": [
    "# Verifica se a variável pessoa é igual a Matheus ou se a variável numero é igual a 3\n",
    "pessoa == 'Paulo' or numero == 3"
   ]
  },
  {
   "cell_type": "code",
   "execution_count": null,
   "metadata": {},
   "outputs": [],
   "source": [
    "# Exemplo 1: Usando o operador `and`\n",
    "x = 5\n",
    "y = 10\n",
    "print(x > 0 and y > 0)  # True, porque ambos, x é maior que 0 e y é maior que 0"
   ]
  },
  {
   "cell_type": "code",
   "execution_count": null,
   "metadata": {},
   "outputs": [],
   "source": [
    "# Exemplo 2: Usando o operador `and` com um resultado falso\n",
    "print(x > 10 and y > 10)  # False, porque x não é maior que 10, mesmo que y seja maior que 10"
   ]
  },
  {
   "cell_type": "code",
   "execution_count": null,
   "metadata": {},
   "outputs": [],
   "source": [
    "# Exemplo 3: Usando o operador `or`\n",
    "a = -5\n",
    "b = 15\n",
    "print(a > 0 or b > 0)  # True, porque b é maior que 0, mesmo que a não seja"
   ]
  },
  {
   "cell_type": "code",
   "execution_count": null,
   "metadata": {},
   "outputs": [],
   "source": [
    "# Exemplo 4: Usando o operador `or` com um resultado falso\n",
    "print(a > 0 or b < 0)  # False, porque nem a é maior que 0 nem b é menor que 0"
   ]
  },
  {
   "cell_type": "code",
   "execution_count": null,
   "metadata": {},
   "outputs": [],
   "source": [
    "# Exemplo 5: Combinando `and` e `or`\n",
    "c = 20\n",
    "d = 30\n",
    "print(c > 10 and d > 10 or a > 0)  # True, porque c e d são maiores que 10, mesmo que a não seja"
   ]
  },
  {
   "cell_type": "code",
   "execution_count": null,
   "metadata": {},
   "outputs": [],
   "source": [
    "# Exemplo 6: Mais complexo com `and` e `or`\n",
    "print((x > 5 or y < 20) and b > 10)  # True, porque y < 20 e b > 10 são verdadeiros"
   ]
  },
  {
   "cell_type": "code",
   "execution_count": null,
   "metadata": {},
   "outputs": [],
   "source": [
    "# Exemplo 7: `and` com todas as condições falsas\n",
    "print(x > 10 and y < 10)  # False, porque ambas as condições são falsas"
   ]
  },
  {
   "cell_type": "code",
   "execution_count": null,
   "metadata": {},
   "outputs": [],
   "source": [
    "# Exemplo 8: `or` com todas as condições falsas\n",
    "print(a > 0 or b < 0)  # False, ambas as condições são falsas"
   ]
  },
  {
   "cell_type": "code",
   "execution_count": null,
   "metadata": {},
   "outputs": [],
   "source": [
    "# Exemplo 9: Usando `not` com `and`\n",
    "print(not(x > 10 and y < 10))  # True, porque a expressão (x > 10 and y < 10) é falsa"
   ]
  },
  {
   "cell_type": "code",
   "execution_count": null,
   "metadata": {},
   "outputs": [],
   "source": [
    "# Exemplo 10: Usando `not` com `or`\n",
    "print(not(a > 0 or b < 0))  # True, porque a expressão (a > 0 or b < 0) é falsa"
   ]
  },
  {
   "cell_type": "markdown",
   "metadata": {},
   "source": [
    "# Exemplos com várias comparações"
   ]
  },
  {
   "cell_type": "code",
   "execution_count": null,
   "metadata": {},
   "outputs": [],
   "source": [
    "# Exemplo 1: Usando múltiplas comparações com `and`\n",
    "x = 12\n",
    "y = 15\n",
    "z = 20\n",
    "print(x > 10 and y > 10 and z > 10)  \n",
    "# Resultado: True\n",
    "# Explicação: Todas as comparações são verdadeiras:\n",
    "# x > 10 é verdadeiro (12 > 10),\n",
    "# y > 10 é verdadeiro (15 > 10),\n",
    "# z > 10 é verdadeiro (20 > 10)."
   ]
  },
  {
   "cell_type": "code",
   "execution_count": null,
   "metadata": {},
   "outputs": [],
   "source": [
    "# Exemplo 2: Usando múltiplas comparações com `or`\n",
    "a = 5\n",
    "b = 25\n",
    "c = 35\n",
    "print(a > 10 or b > 20 or c > 30)  \n",
    "# Resultado: True\n",
    "# Explicação: Ao menos uma das comparações é verdadeira:\n",
    "# a > 10 é falso (5 não é maior que 10),\n",
    "# b > 20 é verdadeiro (25 é maior que 20),\n",
    "# c > 30 é verdadeiro (35 é maior que 30)."
   ]
  },
  {
   "cell_type": "code",
   "execution_count": null,
   "metadata": {},
   "outputs": [],
   "source": [
    "# Exemplo 3: Combinação de `and` e `or` com quatro comparações\n",
    "m = 7\n",
    "n = 19\n",
    "o = 21\n",
    "p = 40\n",
    "print(m > 5 and (n > 20 or o < 25) and p > 30)  \n",
    "# Resultado: True\n",
    "# Explicação: A expressão m > 5 é verdadeira, p > 30 também é verdadeira.\n",
    "# A expressão entre parênteses (n > 20 or o < 25) também é verdadeira porque o < 25 é verdadeiro."
   ]
  },
  {
   "cell_type": "code",
   "execution_count": null,
   "metadata": {},
   "outputs": [],
   "source": [
    "# Exemplo 4: Usando `and` com um resultado falso em múltiplas comparações\n",
    "x = 45\n",
    "y = 60\n",
    "z = 75\n",
    "w = 80\n",
    "print(x > 50 and y > 50 and z > 80 and w > 70)  \n",
    "# Resultado: False\n",
    "# Explicação: Apesar de três comparações serem verdadeiras (y > 50, w > 70),\n",
    "# a comparação z > 80 é falsa, o que faz todo o resultado ser falso."
   ]
  },
  {
   "cell_type": "code",
   "execution_count": null,
   "metadata": {},
   "outputs": [],
   "source": [
    "# Exemplo 5: `or` combinado com `and` para resultado complexo\n",
    "a = 22\n",
    "b = 33\n",
    "c = 44\n",
    "d = 55\n",
    "print((a > 20 and b > 30) or (c < 50 and d > 50))  \n",
    "# Resultado: True\n",
    "# Explicação: A primeira parte da expressão (a > 20 and b > 30) é verdadeira,\n",
    "# e a segunda parte (c < 50 and d > 50) também é verdadeira, então o resultado global é verdadeiro."
   ]
  },
  {
   "attachments": {},
   "cell_type": "markdown",
   "metadata": {},
   "source": [
    "# 2 - Estruturas Condifionais - If\n",
    "\n",
    "As estruturas condicionais são muito importantes em programação, pois permitem que um programa tome decisões com base em uma condição. Em Python, a estrutura condicional mais básica é o \"if\", que em português, siguinifica \"se\"."
   ]
  },
  {
   "cell_type": "code",
   "execution_count": null,
   "metadata": {},
   "outputs": [],
   "source": [
    "numero = 5\n",
    "\n",
    "if numero > 0:\n",
    "    print(\"O número é positivo!\")"
   ]
  },
  {
   "attachments": {},
   "cell_type": "markdown",
   "metadata": {},
   "source": [
    "Neste exemplo, a variável \"numero\" recebe o valor 5. Em seguida, a estrutura \"if\" verifica se o valor de \"numero\" é maior que zero. Como 5 é maior que zero, a mensagem \"O número é positivo!\" é impressa na tela.\n",
    "\n",
    "Mas e se o valor de \"numero\" for igual a zero ou menor que zero?"
   ]
  },
  {
   "attachments": {},
   "cell_type": "markdown",
   "metadata": {},
   "source": [
    "## 2.2 - else\n",
    "Para tratar este caso onde a condição é falsa, podemos utilizar a estrutura \"if/else\", com o \"else\" representando algo como \"se o if for falso, o else será executado\"."
   ]
  },
  {
   "cell_type": "code",
   "execution_count": null,
   "metadata": {},
   "outputs": [],
   "source": [
    "numero = -2\n",
    "\n",
    "if numero > 0:\n",
    "    print(\"O número é positivo!\")\n",
    "else:\n",
    "    print(\"O número é zero ou negativo!\")"
   ]
  },
  {
   "attachments": {},
   "cell_type": "markdown",
   "metadata": {},
   "source": [
    "Neste exemplo, a variável \"numero\" recebe o valor -2. A estrutura \"if\" verifica se o valor de \"numero\" é maior que zero. Como -2 não é maior que zero, a estrutura \"else\" é executada, e a mensagem \"O número é zero ou negativo!\" é impressa na tela."
   ]
  },
  {
   "attachments": {},
   "cell_type": "markdown",
   "metadata": {},
   "source": [
    "## 2.3 - elif\n",
    "Até agora, vimos como usar as estruturas \"if\" e \"if/else\" para tomar decisões em um programa. Mas e se tivermos mais de duas possibilidades? Nesse caso, podemos usar a estrutura \"if/elif/else\". O \"elif\" é a mistura do if com else. \n",
    "\n",
    "\n",
    "`if` \n",
    "\"Se esse caso acontecer, execute alguma ação\"\n",
    "\n",
    "`elif`\n",
    "\"Senão, se outro caso acontecer, execute outra ação\"\n",
    "\n",
    "`else`\n",
    "\"Caso contrário, se **nenhum** dos casos acima ocorreu, execute esta ação.\"\n",
    "\n",
    "    if caso 1:\n",
    "        faça ação 1\n",
    "    elif caso 2:\n",
    "        faça ação 2\n",
    "    elif caso 3:\n",
    "        faça ação 3\n",
    "    else: \n",
    "        faça ação 4\n",
    "\n",
    "Note que a nossa estrutura pode ter apenas 1 if, 1 else e quantos elif forem necessários.\n",
    "\n",
    "Note também que somente if e elif possuem condições, ou seja, o else não possui condições, pois a ação dele será executada somente se todas as verificações do if e elif forem falsas."
   ]
  },
  {
   "cell_type": "code",
   "execution_count": null,
   "metadata": {},
   "outputs": [],
   "source": [
    "nota = 7\n",
    "\n",
    "if nota >= 9:\n",
    "    print(\"Parabéns, você foi aprovado com nota excelente!\")\n",
    "elif nota >= 5:\n",
    "    print(\"Você foi aprovado!\")\n",
    "elif nota >= 7:\n",
    "    print(\"Você está de recuperação.\")\n",
    "else:\n",
    "    print(\"Você foi reprovado.\")"
   ]
  },
  {
   "attachments": {},
   "cell_type": "markdown",
   "metadata": {},
   "source": [
    "Neste exemplo, a variável \"nota\" recebe o valor 7. A estrutura \"if\" verifica se a nota é maior ou igual a 9. Como isso não é verdadeiro, a estrutura \"elif\" é verificada, e a nota é comparada com 7. Como a nota é maior ou igual a 7, a mensagem \"Você foi aprovado!\" é impressa na tela.\n",
    "\n",
    "``Importante ressaltar``: O código começa a ser executado de cima para baixo, ou seja, primeiro faz a verificação do if, caso seja falsa, irá pra o próximo elif... e assim por diante. \n",
    "\n",
    "Assim que o if ou algum elif for verdadeiro, o código irá executar a ação e em seguida encerrar a estrutura condicional. Ou seja, no exemplo a cima, a note é 7,quando o primeiro elif verificou se a nota era maior ou igual a 7, o resultado foi verdadeiro e a ação foi executada (a ação é o \"print(\"Você foi aprovado!\")\") e a estrutura foi encerrada. 7 também é maior que 5, entretanto, a ação \"print(\"Você está de recuperação.\")\" não foi executada pois a estrutur já havia se encerrado.\n",
    "\n",
    "\n",
    "Se a nota fosse menor que 7, mas maior ou igual a 5, a mensagem \"Você está de recuperação.\" seria impressa na tela. Se a nota fosse menor que 5, a mensagem \"Você foi reprovado.\" seria impressa na tela."
   ]
  },
  {
   "cell_type": "code",
   "execution_count": null,
   "metadata": {},
   "outputs": [],
   "source": [
    "nota = 6\n",
    "\n",
    "if nota >= 9:\n",
    "    print(\"Parabéns, você foi aprovado com nota excelente!\")\n",
    "elif nota >= 7:\n",
    "    print(\"Você foi aprovado!\")\n",
    "elif nota >= 5:\n",
    "    print(\"Você está de recuperação.\")\n",
    "else:\n",
    "    print(\"Você foi reprovado.\")"
   ]
  },
  {
   "attachments": {},
   "cell_type": "markdown",
   "metadata": {},
   "source": [
    "Condicionais encadeadas são estruturas de controle de fluxo utilizadas na lógica de programação para executar diferentes ações de acordo com diferentes condições. Uma condicional encadeada consiste em uma série de declarações condicionais que são executadas em sequência.\n",
    "\n",
    "Na prática, as condicionais encadeadas permitem que um programa teste várias condições e execute diferentes blocos de código, dependendo do resultado dessas condições. Cada condicional é testada na ordem em que aparece no código e, se a condição for verdadeira, o bloco de código correspondente é executado. Se a condição for falsa, o programa passa para a próxima condicional.\n",
    "\n",
    "As condicionais encadeadas são especialmente úteis quando há várias condições que precisam ser testadas, como em um jogo em que o jogador pode tomar várias ações diferentes com base em sua posição atual e nos movimentos possíveis. Ao usar condicionais encadeadas, é possível testar cada condição em sequência e executar o código correspondente para lidar com cada situação possível.\n",
    "\n",
    "Em Python, as condicionais encadeadas são implementadas usando as palavras-chave \"if\", \"elif\" e \"else\". O \"if\" é a primeira condicional a ser testada, enquanto o \"elif\" é uma condicional adicional que só é testada se a condição anterior for falsa. O \"else\" é a condicional final que é executada se todas as outras condições forem falsas."
   ]
  },
  {
   "attachments": {},
   "cell_type": "markdown",
   "metadata": {},
   "source": [
    "## 2.4 - Identação\n",
    "A identação é um aspecto fundamental da sintaxe da linguagem de programação Python. Basicamente, a identação é o recuo de um bloco de código em relação ao seu contexto. Em outras palavras, a identação define a hierarquia do código Python.\n",
    "\n",
    "Por exemplo, em uma estrutura condicional \"if\", o bloco de código dentro do \"if\" deve ser identado com um ou mais espaços ou tabulações em relação ao \"if\". Se não houver identação, o código não será executado corretamente."
   ]
  },
  {
   "cell_type": "code",
   "execution_count": null,
   "metadata": {},
   "outputs": [],
   "source": [
    "valor = 5\n",
    "# Exemplo incorreto\n",
    "if valor > 0:\n",
    "print(\"valor = 5 é positivo!\")"
   ]
  },
  {
   "attachments": {},
   "cell_type": "markdown",
   "metadata": {},
   "source": [
    "Neste exemplo, o bloco de código dentro do \"if\" não está identado, o que resultará em um erro de sintaxe. Para corrigir o código, devemos identar o bloco de código:"
   ]
  },
  {
   "cell_type": "code",
   "execution_count": null,
   "metadata": {},
   "outputs": [],
   "source": [
    "valor = 5\n",
    "# Exemplo correto\n",
    "if valor > 0:\n",
    "    print(\"valor é positivo!\")\n",
    "    print(\"a\")\n",
    "    print(\"b\")\n",
    "    print(\"c\")\n",
    "    print(\"d\")\n",
    "    print(\"e\")\n"
   ]
  },
  {
   "attachments": {},
   "cell_type": "markdown",
   "metadata": {},
   "source": [
    "Note que o bloco de código agora está identado com quatro espaços (um tab) em relação ao \"if\". O número de espaços ou tabulações usados para identação é uma escolha do programador, mas é importante manter uma consistência ao longo do código.\n",
    "\n",
    "Em outras palavras, a identação é o que define o que será executado dentro de alguma estrutura aqui no python. Cada linguagem de programação possui alguma forma de fazer estas limitações, como com (), {}...\n",
    "\n",
    "Importante notar que aqui no python nós podemos dfinir qualquer \"quantidade de espaços\" para formar a nossa identação, mas por padrão da comunidade de programadores python, utilizamos um tab (que é a mesma coisa que 4 espaços)\n",
    "\n",
    "Além das estruturas condicionais, a identação também é importante em outras estruturas de controle de fluxo, como loops e funções que iremos ver em conteúdos mais a frente.\n",
    "\n",
    "Em resumo, a identação é um aspecto fundamental da sintaxe da linguagem de programação Python. É importante identar corretamente o código para garantir que ele seja executado corretamente. Além disso, manter uma identação consistente ao longo do código torna o código mais fácil de ler e entender."
   ]
  },
  {
   "attachments": {},
   "cell_type": "markdown",
   "metadata": {},
   "source": [
    "Neste exemplo, estamos verificando a idade da pessoa e utilizando condicionais encadeadas para determinar se a pessoa é menor de idade, jovem, adulta ou idosa."
   ]
  },
  {
   "cell_type": "code",
   "execution_count": null,
   "metadata": {},
   "outputs": [],
   "source": [
    "# Exemplo de condicional encadeada para verificar a idade\n",
    "\n",
    "# Definindo a idade da pessoa\n",
    "idade = 25\n",
    "\n",
    "# Verificando a idade da pessoa\n",
    "if idade < 18:\n",
    "    # Se a idade for menor que 18, a pessoa é menor de idade\n",
    "    print(\"Você é menor de idade.\")\n",
    "elif idade >= 18 and idade < 30:\n",
    "    # Se a idade estiver entre 18 e 29 anos, a pessoa é jovem\n",
    "    print(\"Você é jovem.\")\n",
    "elif idade >= 30 and idade < 60:\n",
    "    # Se a idade estiver entre 30 e 59 anos, a pessoa é adulta\n",
    "    print(\"Você é adulto.\")\n",
    "else:\n",
    "    # Se a idade for maior ou igual a 60 anos, a pessoa é idosa\n",
    "    print(\"Você é idoso.\")"
   ]
  },
  {
   "attachments": {},
   "cell_type": "markdown",
   "metadata": {},
   "source": [
    "Neste exemplo, estamos verificando a temperatura em graus Celsius e utilizando condicionais encadeadas para determinar se está muito frio, frio, ameno, quente ou muito quente."
   ]
  },
  {
   "cell_type": "code",
   "execution_count": null,
   "metadata": {},
   "outputs": [],
   "source": [
    "# Exemplo de condicional encadeada para verificar a temperatura\n",
    "\n",
    "# Definindo a temperatura em Celsius\n",
    "temperatura = 25\n",
    "\n",
    "# Verificando a temperatura\n",
    "if temperatura < 0:\n",
    "    # Se a temperatura for menor que 0 graus Celsius, está muito frio\n",
    "    print(\"Está muito frio!\")\n",
    "elif temperatura >= 0 and temperatura < 10:\n",
    "    # Se a temperatura estiver entre 0 e 9 graus Celsius, está frio\n",
    "    print(\"Está frio!\")\n",
    "elif temperatura >= 10 and temperatura < 20:\n",
    "    # Se a temperatura estiver entre 10 e 19 graus Celsius, está ameno\n",
    "    print(\"Está ameno!\")\n",
    "elif temperatura >= 20 and temperatura < 30:\n",
    "    # Se a temperatura estiver entre 20 e 29 graus Celsius, está quente\n",
    "    print(\"Está quente!\")\n",
    "else:\n",
    "    # Se a temperatura for maior ou igual a 30 graus Celsius, está muito quente\n",
    "    print(\"Está muito quente!\")"
   ]
  },
  {
   "attachments": {},
   "cell_type": "markdown",
   "metadata": {},
   "source": [
    "Neste exemplo, estamos verificando a nota do aluno e utilizando condicionais encadeadas para determinar se o aluno está reprovado, em recuperação ou aprovado."
   ]
  },
  {
   "cell_type": "code",
   "execution_count": null,
   "metadata": {},
   "outputs": [],
   "source": [
    "# Exemplo de condicional encadeada para verificar a nota\n",
    "\n",
    "# Definindo a nota do aluno\n",
    "nota = 7.5\n",
    "\n",
    "# Verificando a nota do aluno\n",
    "if nota < 5:\n",
    "    # Se a nota for menor que 5, o aluno está reprovado\n",
    "    print(\"Reprovado!\")\n",
    "elif nota >= 5 and nota < 7:\n",
    "    # Se a nota estiver entre 5 e 6.9, o aluno está em recuperação\n",
    "    print(\"Recuperação!\")\n",
    "else:\n",
    "    # Se a nota for maior ou igual a 7, o aluno está aprovado\n",
    "    print(\"Aprovado!\")"
   ]
  },
  {
   "attachments": {},
   "cell_type": "markdown",
   "metadata": {},
   "source": [
    "Neste exemplo, estamos verificando se um número é par ou ímpar utilizando condicionais encadeadas e o operador mod % (resto da divisão). Se o resto da divisão do número por 2 for igual a 0 o número é par. Caso contrário, é ímpar."
   ]
  },
  {
   "cell_type": "code",
   "execution_count": null,
   "metadata": {},
   "outputs": [],
   "source": [
    "# Exemplo de condicional encadeada para verificar se um número é par ou ímpar\n",
    "\n",
    "# Definindo um número\n",
    "numero = 11\n",
    "\n",
    "# Verificando se o número é par ou ímpar\n",
    "if numero % 2 == 0:\n",
    "    # Se o número for divisível por 2 (ou seja, se o resto da divisão por 2 for igual a 0), é par\n",
    "    print(\"O número é par.\")\n",
    "else:\n",
    "    # Se o número não for divisível por 2 (ou seja, se o resto da divisão por 2 for diferente de 0), é ímpar\n",
    "    print(\"O número é ímpar.\")"
   ]
  },
  {
   "attachments": {},
   "cell_type": "markdown",
   "metadata": {},
   "source": [
    "# 3 - Condicionais encadeadas ou sequenciais - if\n",
    "Podemos colocar outras estruturas condicionais dentro de cada condicional\n",
    "#\n",
    "Em outras palavras, podemos colocar estruturas if/elif/else dentro de if, elif e else..."
   ]
  },
  {
   "attachments": {},
   "cell_type": "markdown",
   "metadata": {},
   "source": [
    "Verificar se um número é positivo, negativo ou zero"
   ]
  },
  {
   "cell_type": "code",
   "execution_count": null,
   "metadata": {},
   "outputs": [],
   "source": [
    "# Definindo um número\n",
    "numero = -5\n",
    "\n",
    "# Verificando se o número é positivo, negativo ou zero\n",
    "if numero == 0:\n",
    "    # Se o número for igual a zero, imprimir mensagem \"O número é zero.\"\n",
    "    print(\"O número é zero.\")\n",
    "else:\n",
    "    # Se o número não for zero, verificamos se é positivo ou negativo\n",
    "    if numero > 0:\n",
    "        # Se o número for positivo, imprimir mensagem \"O número é positivo.\"\n",
    "        print(\"O número é positivo.\")\n",
    "    else:\n",
    "        # Se o número não for positivo, imprimir mensagem \"O número é negativo.\"\n",
    "        print(\"O número é negativo.\")"
   ]
  },
  {
   "attachments": {},
   "cell_type": "markdown",
   "metadata": {},
   "source": [
    "Verificar se um número é par, positivo e menor que 10 "
   ]
  },
  {
   "cell_type": "code",
   "execution_count": null,
   "metadata": {},
   "outputs": [],
   "source": [
    "# Definindo um número\n",
    "numero = 6\n",
    "\n",
    "# Verificando se o número é par, positivo e menor que 10\n",
    "if numero > 0:\n",
    "    # Se o número for positivo, verificamos se é par e menor que 10\n",
    "    if numero % 2 == 0 and numero < 10:\n",
    "        # Se o número for par e menor que 10, imprimir mensagem \"O número é par, positivo e menor que 10.\"\n",
    "        print(\"O número é par, positivo e menor que 10.\")\n",
    "    else:\n",
    "        # Se o número não atender aos critérios, imprimir mensagem \"O número não atende aos critérios.\"\n",
    "        print(\"O número não atende aos critérios.\")\n",
    "else:\n",
    "    # Se o número não for positivo, imprimir mensagem \"O número não é positivo.\"\n",
    "    print(\"O número não é positivo.\")\n"
   ]
  },
  {
   "attachments": {},
   "cell_type": "markdown",
   "metadata": {},
   "source": [
    "Verificar se um número é divisível por 3 e 5, ou somente por 3 ou somente por 5"
   ]
  },
  {
   "cell_type": "code",
   "execution_count": null,
   "metadata": {},
   "outputs": [],
   "source": [
    "# Definindo um número\n",
    "numero = 15\n",
    "\n",
    "# Verificando se o número é divisível por 3 e 5, ou somente por 3 ou somente por 5\n",
    "if numero % 3 == 0:\n",
    "    if numero % 5 == 0:\n",
    "        # Se o número for divisível por 3 e 5, imprimir mensagem \"O número é divisível por 3 e 5.\"\n",
    "        print(\"O número é divisível por 3 e 5.\")\n",
    "    else:\n",
    "        # Se o número for divisível somente por 3, imprimir mensagem \"O número é divisível somente por 3.\"\n",
    "        print(\"O número é divisível somente por 3\")\n",
    "else:\n",
    "    if numero % 5 == 0:\n",
    "        # Se o número for divisível somente por 5, imprimir mensagem \"O número é divisível somente por 5.\"\n",
    "        print(\"O número é divisível somente por 5.\")\n",
    "    else:\n",
    "        # Se o número não for divisível por 3 nem por 5, imprimir mensagem \"O número não é divisível por 3 nem por 5.\"\n",
    "        print(\"O número não é divisível por 3 nem por 5.\")\n"
   ]
  },
  {
   "cell_type": "markdown",
   "metadata": {},
   "source": [
    "# 3 - Exercícios"
   ]
  },
  {
   "cell_type": "markdown",
   "metadata": {},
   "source": [
    "## 3.0 - Valor positivo, negativo ou neutro\n",
    "* Crie uma variável e atribua um valor numérico à ela;\n",
    "* Use as estruturas condicionais if, elif e else para exibir se o número é positivo, negativo ou neutro."
   ]
  },
  {
   "cell_type": "code",
   "execution_count": null,
   "metadata": {},
   "outputs": [],
   "source": [
    "# Desenvolva seu código aqui\n",
    "\n"
   ]
  },
  {
   "cell_type": "markdown",
   "metadata": {},
   "source": [
    "## 3.1 - média das notas\n",
    "* crie 3 variáveis de nota do aluno e determine um valor de 0 a 10 para cada nota;\n",
    "* crie uma variável que irá receber a média das 3 notas;\n",
    "\n",
    "\n",
    "* use as estruturas condicionais if, elif e else para:\n",
    "    * Exibir a mensagem \"Aprovado\" se a média for maior ou igual a 7\n",
    "    * Exibir a mensagem \"Reprovado\" se a média for menor que 7\n",
    "    * Exibir a mensagem \"Aprovado com medalha de honra\" se a média forigual a 10"
   ]
  },
  {
   "cell_type": "code",
   "execution_count": null,
   "metadata": {},
   "outputs": [],
   "source": [
    "# Desenvolva seu código aqui\n",
    "\n",
    "\n",
    "\n"
   ]
  },
  {
   "cell_type": "markdown",
   "metadata": {},
   "source": [
    "## 3.2 - Maior dos números\n",
    "* crie as variáveis numero_1, numero_2 e numero_3, de qualquer valor numérico para as variáveis;\n",
    "\n",
    "* use as estruturas condicionais if, elif e else para exibir o maior dos 3 números"
   ]
  },
  {
   "cell_type": "code",
   "execution_count": null,
   "metadata": {},
   "outputs": [],
   "source": [
    "# Desenvolva seu código aqui\n",
    "\n",
    "\n"
   ]
  },
  {
   "cell_type": "markdown",
   "metadata": {},
   "source": [
    "## 3.3 - Maior e menor dos números\n",
    "* crie as variáveis numero_1 e numero_2 e numero_3, de qualquer valor numérico para as variáveis;\n",
    "\n",
    "* use as estruturas condicionais if, elif e else para exibir o maior e o menor dos 3 números."
   ]
  },
  {
   "cell_type": "code",
   "execution_count": null,
   "metadata": {},
   "outputs": [],
   "source": [
    "# Desenvolva seu código aqui\n",
    "\n",
    "\n",
    "    "
   ]
  },
  {
   "cell_type": "markdown",
   "metadata": {},
   "source": [
    "## 3.4 - Ordenar números\n",
    "* crie as variáveis numero_1 e numero_2, de qualquer valor numérico para as variáveis;\n",
    "\n",
    "* use as estruturas condicionais if, elif e else para exibir os 2 números em ordem crescente;"
   ]
  },
  {
   "cell_type": "code",
   "execution_count": null,
   "metadata": {},
   "outputs": [],
   "source": [
    "# Desenvolva seu código aqui\n",
    "\n"
   ]
  },
  {
   "cell_type": "markdown",
   "metadata": {},
   "source": [
    "## 3.5 - Reajuste de Salário\n",
    "As Organizações Tabajara resolveram dar um aumento de salário aos seus colaboradores e lhe contrataram para desenvolver o programa que calculará os reajustes.\n",
    "\n",
    "* Crie uma variável salário e de um valor a ela.\n",
    "\n",
    "* Use as estruturas condicionais if, elif e else para realizar o reajuste do salário de acordo com as seguintes regras:\n",
    "    * salários até R$ 1200,00 (incluindo) : aumento de 20%\n",
    "    * salários entre R$ 1200,00 e R$ 2000,00 : aumento de 15%\n",
    "    * salários entre R$ 2000,00 e R$ 3000,00 : aumento de 10%\n",
    "    * salários de R$ 3000,00 em diante : aumento de 5% \n",
    "# \n",
    "* Após o aumento ser realizado, informe na tela:\n",
    "    * o salário antes do reajuste;\n",
    "    * o percentual de aumento aplicado;\n",
    "    * o valor do aumento;\n",
    "    * o novo salário, após o aumento."
   ]
  },
  {
   "cell_type": "code",
   "execution_count": null,
   "metadata": {},
   "outputs": [],
   "source": [
    "# Desenvolva seu código aqui\n",
    "\n"
   ]
  },
  {
   "cell_type": "markdown",
   "metadata": {},
   "source": [
    "## 3.6 - Dia da semana\n",
    "* Crie uma variável chamada dia, e atribua um valor de 1 a 7.\n",
    "* Use as estruturas condicionais if, elif e else para exibir o dia da semana correspondende ao valor da variávl dia, conforme abaixo:\n",
    "    * 1 = Domingo\n",
    "    * 2 = Segunda\n",
    "    * 3 = Terça\n",
    "    * 4 = Quarta\n",
    "    * 5 = Quinta\n",
    "    * 6 = Sexta\n",
    "    * 7 = Sábado"
   ]
  },
  {
   "cell_type": "code",
   "execution_count": null,
   "metadata": {},
   "outputs": [],
   "source": [
    "# Desenvolva seu código aqui\n",
    "\n"
   ]
  },
  {
   "cell_type": "markdown",
   "metadata": {},
   "source": [
    "## 3.7 - Ano bisexto?\n",
    "\n",
    "* Crie uma variável ano e atribua o valor de algum ano à ela;\n",
    "* Use as estruturas condicionais if, elif e else para exibir se o ano é ou não bisexto.\n",
    "#\n",
    "OBS: Ano bisexto é todo aquele perfeitamente divisível por 4\n",
    "\n",
    "Dica: Use a função MOD `%`"
   ]
  },
  {
   "cell_type": "code",
   "execution_count": null,
   "metadata": {},
   "outputs": [],
   "source": [
    "# Desenvolva seu código aqui\n",
    "\n"
   ]
  },
  {
   "cell_type": "markdown",
   "metadata": {},
   "source": [
    "## 3.8 - Soma de números par ou ímpar?\n",
    "* crie as variáveis numero_1 e numero_2, de qualquer valor numérico para as variáveis;\n",
    "* crie a variável soma que receberá a soma dos dois números\n",
    "\n",
    "* use as estruturas condicionais if, elif e else para exibir se a soma dos dois números é par ou ímpar;\n",
    "\n",
    "Dica: Use a função MOD `%`"
   ]
  },
  {
   "cell_type": "code",
   "execution_count": null,
   "metadata": {},
   "outputs": [],
   "source": [
    "# Desenvolva seu código aqui\n",
    "\n"
   ]
  },
  {
   "cell_type": "markdown",
   "metadata": {},
   "source": [
    "# 4 - Estrutura de iteração - FOR\n",
    "\n",
    "Um loop <code>for</code> atua como um iterador no Python; ele percorre itens que estão em uma **sequência** ou qualquer outro item iterável. Os objetos que aprendemos sobre os quais podemos iterar incluem strings e listas.\n",
    "\n",
    "##### Aqui está o formato geral para um loop <code>for</code> no Python:\n",
    "    \n",
    "    for item in objeto:\n",
    "        instruções"
   ]
  },
  {
   "cell_type": "code",
   "execution_count": null,
   "metadata": {},
   "outputs": [],
   "source": [
    "# Criar uma lista de números\n",
    "lista = [1,2,3,4,5,6]"
   ]
  },
  {
   "cell_type": "code",
   "execution_count": null,
   "metadata": {},
   "outputs": [],
   "source": [
    "# Cria-se uma variável num que irá percorrer os elementos da lista\n",
    "for num in lista:\n",
    "    # Exibe o valor da variável num\n",
    "    print(num) "
   ]
  },
  {
   "cell_type": "markdown",
   "metadata": {},
   "source": [
    "Ótimo! Espero que isso faça sentido. Agora vamos adicionar uma instrução <code>if</code> para verificar se há números pares. \n",
    "### Resto\n",
    "O resto nos permite obter o restante em uma divisão e usa o símbolo %. Por exemplo:"
   ]
  },
  {
   "cell_type": "code",
   "execution_count": null,
   "metadata": {},
   "outputs": [],
   "source": [
    "# Cria-se uma variável num que irá percorrer os elementos da lista\n",
    "for num in lista:\n",
    "    # Verifica se o resto da divisão de num por 2 é igual a 0\n",
    "    if num % 2 == 0:\n",
    "        print(num)"
   ]
  },
  {
   "cell_type": "code",
   "execution_count": null,
   "metadata": {},
   "outputs": [],
   "source": [
    "#Para imprimir os ímpares\n",
    "for num in lista:\n",
    "    # Verifica se o resto da divisão de num por 2 é diferente de 0\n",
    "    if num % 2 != 0:\n",
    "        print(num)"
   ]
  },
  {
   "cell_type": "markdown",
   "metadata": {},
   "source": [
    "Poderíamos também colocar uma declaração <code>else</code> lá:"
   ]
  },
  {
   "cell_type": "code",
   "execution_count": null,
   "metadata": {},
   "outputs": [],
   "source": [
    "for num in lista:\n",
    "    if num % 2 == 0:\n",
    "        print(num)\n",
    "    else:\n",
    "        print('Número ímpar')"
   ]
  },
  {
   "cell_type": "code",
   "execution_count": null,
   "metadata": {},
   "outputs": [],
   "source": [
    "# Cria a variável soma que começa com zero\n",
    "soma = 0 \n",
    "\n",
    "# Cria-se uma variável num que irá percorrer os elementos da lista\n",
    "for num in lista:\n",
    "    # A variável soma irá receber o valor dela + o num\n",
    "    soma += num\n",
    "\n",
    "print(soma)"
   ]
  },
  {
   "cell_type": "markdown",
   "metadata": {},
   "source": [
    "## 4.1 - Loop For repetir uma quantidade específica de vezes\n",
    "\n",
    "O loop for pode percorrer uma determinada quantidade de valores com a função range()\n",
    "\n",
    "Dentro da função range podem ser passador 3 parâmetros sendo range(inicio, fim, passo),onde:\n",
    "* inicio é o primeiro valor a ser percorrido;\n",
    "* fim é o último valor a ser percorrido;\n",
    "* passo é a quantidade de valores que o loop anda em cada execução"
   ]
  },
  {
   "cell_type": "code",
   "execution_count": null,
   "metadata": {},
   "outputs": [],
   "source": [
    "# O loop começará em 0, terminará em 9 e irá percorrer os valores de 2 em 2\n",
    "for numero in range(0,10,2):\n",
    "    print(numero)"
   ]
  },
  {
   "cell_type": "code",
   "execution_count": null,
   "metadata": {},
   "outputs": [],
   "source": [
    "# O loop começará em 0, terminará em 9 e irá percorrer os valores de 3 em 3\n",
    "for numero in range(0,10,3):\n",
    "    print(numero)"
   ]
  },
  {
   "cell_type": "markdown",
   "metadata": {},
   "source": [
    "Tanto o primeiro quanto o último parâmetro do range não precisam ser informados, por padrão eles são 0 e 1, respectivamente, Sendo necessário especificar somente qual o valor máximo."
   ]
  },
  {
   "cell_type": "code",
   "execution_count": null,
   "metadata": {},
   "outputs": [],
   "source": [
    "# O loop começará em 0, terminará em 4 e irá percorrer os valores de 1 em 1\n",
    "for numero in range(0,5,1):\n",
    "    print(numero)"
   ]
  },
  {
   "cell_type": "code",
   "execution_count": null,
   "metadata": {},
   "outputs": [],
   "source": [
    "# O loop começará em 0, terminará em 4 e irá percorrer os valores de 1 em 1\n",
    "for numero in range(5):\n",
    "    print(numero)"
   ]
  },
  {
   "cell_type": "markdown",
   "metadata": {},
   "source": [
    "# 5 - Exercícios de Loop For"
   ]
  },
  {
   "cell_type": "markdown",
   "metadata": {},
   "source": [
    "## 5.0 - Tabuada\n",
    "\n",
    "* Crie uma variável numero e atribua a ela algum valor de 1 a 10;\n",
    "* Use o loop for para exibir a tabuada deste número"
   ]
  },
  {
   "cell_type": "code",
   "execution_count": null,
   "metadata": {},
   "outputs": [],
   "source": [
    "# Desenvolva seu código aqui\n",
    "\n"
   ]
  },
  {
   "cell_type": "markdown",
   "metadata": {},
   "source": [
    "## 5.1 - Escreva um programa que exiba todos os números entre 5 e 100 que são divisíveis por 7, mas não são múltipos de 5."
   ]
  },
  {
   "cell_type": "code",
   "execution_count": null,
   "metadata": {},
   "outputs": [],
   "source": [
    "# Desenvolva seu código aqui\n",
    "\n"
   ]
  },
  {
   "cell_type": "markdown",
   "metadata": {},
   "source": [
    "## 5.2 - Soma dos números\n",
    "* Crie uma variável numero e atribua a ela algum valor numérico inteiro;\n",
    "* Utilize o loop ``for`` para exibir a soma de todos os numeros de 1 até o valor da variável numero.\n",
    "\n",
    "EX: numero = 4\n",
    "\n",
    "Valor exibido deve ser 10\n",
    "\n",
    "Pois 1+2+3+4 = 10\n"
   ]
  },
  {
   "cell_type": "code",
   "execution_count": null,
   "metadata": {},
   "outputs": [],
   "source": [
    "# Desenvolva seu código aqui\n",
    "\n"
   ]
  },
  {
   "cell_type": "markdown",
   "metadata": {},
   "source": [
    "## 5.3 - Quantidade de Valores pares e ímpares na lista_numeros\n",
    "* Crie uma variavel quantidade_par e outra quantidade_impar;\n",
    "* Utilize o loop for para percorrer a lista_numeros;\n",
    "* Utilize as estruturas condicionais para verificar se o valor é par ou ímpar;\n",
    "* Exiba a quantidade de valores pares e a quantidade de valores ímpares."
   ]
  },
  {
   "cell_type": "code",
   "execution_count": null,
   "metadata": {},
   "outputs": [],
   "source": [
    "lista_numeros = [5,484,2,21,4,6,9,451,4,8,6,2,1,4,8,6,2,1,7,51,8,7,51,8,7,5,13,748,4,22,2,68,479,43,1,4,98,6841,64,84,86]\n",
    "# Desenvolva seu código aqui\n",
    "\n"
   ]
  }
 ],
 "metadata": {
  "kernelspec": {
   "display_name": "Python 3.9.7 ('base')",
   "language": "python",
   "name": "python3"
  },
  "language_info": {
   "codemirror_mode": {
    "name": "ipython",
    "version": 3
   },
   "file_extension": ".py",
   "mimetype": "text/x-python",
   "name": "python",
   "nbconvert_exporter": "python",
   "pygments_lexer": "ipython3",
   "version": "3.9.7"
  },
  "orig_nbformat": 4,
  "vscode": {
   "interpreter": {
    "hash": "067f175f07fc265aa8d145419b6335739ee65af91da4abf8cfbfc48bca5c9b8b"
   }
  }
 },
 "nbformat": 4,
 "nbformat_minor": 2
}
