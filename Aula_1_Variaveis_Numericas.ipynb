{
 "cells": [
  {
   "cell_type": "markdown",
   "metadata": {},
   "source": [
    "# Aula 1 - Variáveis Numéricas\n",
    "\n",
    "### Regras para criação de qualquer variável\n",
    "* Nome da variável ``não pode``:\n",
    "    * Começar com números;\n",
    "    * Conter espaço;\n",
    "    * Conter ou começar com caracteres especiais (`:'\",<>/?|\\!@#%^&*~-+`), exceto `_` (\"Underline\");\n",
    "    * Ser uma palavra que faz parte do python(True, False, while, for, in, list, str...).\n",
    "\n",
    "#\n",
    "* Nome da variável ``pode``:\n",
    "    * Começar com letras maiúsculas ou minúsculas;\n",
    "    * Conter ou começar com _ (\"Underline\").\n",
    "\n",
    "#\n",
    "* Boas práticas para nome de variáveis:\n",
    "    * Todas letras minúsculas;\n",
    "    * Nomes compostos separados por _  (\"Underline\");\n",
    "    * Evitar criar nomes com caracteres únicos (a, A, b, B, c, C...);\n",
    "    * Dar nomes intuitivos para as variáveis.\n",
    "\n",
    "### Criação/Atribuição de variáveis\n",
    "A criação/atribuição de variáveis segue `nome_da_variavel = valor_da_variavel`, onde um único sinal de igual `=` é um \"operador de atribuição\"\n",
    "\n",
    "#\n",
    "##### OBS_1: \n",
    "O Python é uma linguagem `Case-Sensitive`. Significa que variáveis de mesmo nome, mas com maiúsculas ou minúsculas diferentes, são variáveis diferentes. \n",
    "\n",
    "EX: a variável `nome` é diferente da variável `Nome` que também é diferente da variável `NOME`\n",
    "\n",
    "# Principais Tipos de Variáveis:\n",
    "* int - Algarismos numéricos inteiros;\n",
    "* float - Algarismos numéricos decimais (ponto flutuante);\n",
    "* str - Caracteres que formam palavras, frases e textos;\n",
    "* bool - Expressões que representam verdadeiro (True) ou falso (False);\n",
    "* datetime - Datas e Horas\n",
    "* list - listas que podem agrupar todos os outros tipos de variáveis;\n",
    "* dict - Dicionário que estabelece relação de chave e valor entre elementos.\n",
    "* dataframe - Tabelas\n",
    "\n",
    "#\n",
    "##### OBS_2: \n",
    "Este tipo de programação é estruturado em jupyter notebook, o que permite compilar individualmente trexos de códigos em \"células\".\n",
    "#\n",
    "Dicas para utilizar o jupyter notebook:\n",
    "* Uma \"célula\" de \"Markdown\" serve apenas para escrever textos;\n",
    "* Uma \"célula\" de \"Código\" serve para rodar códigos em python;\n",
    "* Nas células de código, todas as linhas que começam com # são comentários no código e não afetam o código:\n",
    "* Para executar o código de uma \"célula\", pressionar \"Ctrl\" + \"Enter\";\n",
    "* Para executar o código de uma \"célula\" e passar para a próxima célula, pressionar \"Shift\" + \"Enter\".\n",
    "\n",
    "### Neste Notebook veremos:\n",
    "    1.) Criação de Variáveis com Números Inteiros\n",
    "    2.) Criação de Variáveis com Numeros Decimais\n",
    "    3.) Operações com Variáveis Numéricas \n",
    "    4.) Reatribuição de Variáveis numéricas\n",
    "    5.) Arredondamento de Casas Decimais\n",
    "    6.) Exercícios de Fixação"
   ]
  },
  {
   "cell_type": "markdown",
   "metadata": {},
   "source": [
    "### 1 - int - Números Inteiros"
   ]
  },
  {
   "cell_type": "code",
   "execution_count": null,
   "metadata": {},
   "outputs": [],
   "source": [
    "# Criação da variável numérica numero_inteiro_1\n",
    "numero_inteiro_1 = 10"
   ]
  },
  {
   "cell_type": "code",
   "execution_count": null,
   "metadata": {},
   "outputs": [],
   "source": [
    "# Criação da variável numérica numero_inteiro_2\n",
    "numero_inteiro_2 = 4"
   ]
  },
  {
   "cell_type": "code",
   "execution_count": null,
   "metadata": {},
   "outputs": [],
   "source": [
    "# Criação da variável numérica numero_inteiro_3, utilizando as duas outras variáveis já criadas\n",
    "numero_inteiro_3 = numero_inteiro_1 + numero_inteiro_2"
   ]
  },
  {
   "cell_type": "code",
   "execution_count": null,
   "metadata": {},
   "outputs": [],
   "source": [
    "# Exibe o valor da variável numero_inteiro_1\n",
    "print('numero_inteiro_1 =', numero_inteiro_1)\n",
    "\n",
    "# Exibe o valor da variável numero_inteiro_2\n",
    "print('numero_inteiro_2 =', numero_inteiro_2)\n",
    "\n",
    "# Exibe o valor da variável numero_inteiro_3\n",
    "print('numero_inteiro_3 =', numero_inteiro_3)"
   ]
  },
  {
   "cell_type": "code",
   "execution_count": null,
   "metadata": {},
   "outputs": [],
   "source": [
    "# Exibe o tipo da variável numero_inteiro_1\n",
    "type(numero_inteiro_1)"
   ]
  },
  {
   "cell_type": "code",
   "execution_count": null,
   "metadata": {},
   "outputs": [],
   "source": [
    "# Forma errônea de nomear uma variável\n",
    "numero inteiro = 10"
   ]
  },
  {
   "cell_type": "code",
   "execution_count": null,
   "metadata": {},
   "outputs": [],
   "source": [
    "# Forma errônea de nomear uma variável\n",
    "1numero_inteiro = 4"
   ]
  },
  {
   "cell_type": "markdown",
   "metadata": {},
   "source": [
    "### 2 - float - Números Decimais\n",
    "No python, a separação de casas decimais é realizada por ponto \".\" e não vírgula \",\""
   ]
  },
  {
   "cell_type": "code",
   "execution_count": null,
   "metadata": {},
   "outputs": [],
   "source": [
    "# Criação da variável numérica numero_inteiro_1\n",
    "numero_decimal_1 = 5.5\n",
    "\n",
    "# Exibe o tipo da variável numero_decimal_1\n",
    "type(numero_decimal_1)"
   ]
  },
  {
   "cell_type": "code",
   "execution_count": null,
   "metadata": {},
   "outputs": [],
   "source": [
    "# Criação da variável numérica numero_inteiro_2\n",
    "numero_decimal_2 = 8.4\n",
    "\n",
    "# Exibe o tipo da variável numero_decimal_2\n",
    "type(numero_decimal_2)"
   ]
  },
  {
   "cell_type": "code",
   "execution_count": null,
   "metadata": {},
   "outputs": [],
   "source": [
    "# Criação da variável numérica numero_decimal_3, utilizando as duas outras variáveis decimais já criadas\n",
    "numero_decimal_3 = numero_decimal_2 / numero_decimal_1\n",
    "\n",
    "# Exibe o tipo da variável numero_decimal_3\n",
    "type(numero_decimal_3)"
   ]
  },
  {
   "cell_type": "code",
   "execution_count": null,
   "metadata": {},
   "outputs": [],
   "source": [
    "# Criação da variável numérica numero_decimal_4, utilizando as variáveis numero_inteiro_1 e numero_inteiro_2\n",
    "numero_decimal_4 = numero_inteiro_1 / numero_inteiro_2\n",
    "\n",
    "# Exibe o tipo da variável numero_inteiro_1\n",
    "type(numero_decimal_4)"
   ]
  },
  {
   "cell_type": "code",
   "execution_count": null,
   "metadata": {},
   "outputs": [],
   "source": [
    "# Exibe o valor da variável numero_decimal_1\n",
    "print('numero_decimal_1 =', numero_decimal_1)\n",
    "\n",
    "# Exibe o valor da variável numero_decimal_2\n",
    "print('numero_decimal_2 =', numero_decimal_2)\n",
    "\n",
    "# Exibe o valor da variável numero_decimal_3\n",
    "print('numero_decimal_3 =', numero_decimal_3)\n",
    "\n",
    "# Exibe o valor da variável numero_decimal_3\n",
    "print('numero_decimal_4 =', numero_decimal_4)"
   ]
  },
  {
   "cell_type": "markdown",
   "metadata": {},
   "source": [
    "### 3 - Operações com Variáveis Numéricas\n",
    "\n",
    "Podem ser feita entre números, variáveis numéricas e variáveis numéricas e números"
   ]
  },
  {
   "cell_type": "markdown",
   "metadata": {},
   "source": [
    "#### 3.1 - Adição\n",
    "Sinal de mais `+`"
   ]
  },
  {
   "cell_type": "code",
   "execution_count": null,
   "metadata": {},
   "outputs": [],
   "source": [
    "# Soma entre números\n",
    "5 + 5"
   ]
  },
  {
   "cell_type": "code",
   "execution_count": null,
   "metadata": {},
   "outputs": [],
   "source": [
    "# Soma entre variáveis\n",
    "numero_inteiro_1 + numero_decimal_1"
   ]
  },
  {
   "cell_type": "code",
   "execution_count": null,
   "metadata": {},
   "outputs": [],
   "source": [
    "# Soma entre variável e número\n",
    "numero_decimal_2 + 10"
   ]
  },
  {
   "cell_type": "markdown",
   "metadata": {},
   "source": [
    "#### 3.2 - Subtração\n",
    "Sinal de menos `-`"
   ]
  },
  {
   "cell_type": "code",
   "execution_count": null,
   "metadata": {},
   "outputs": [],
   "source": [
    "# Subtração entre numeros\n",
    "5 - 5"
   ]
  },
  {
   "cell_type": "code",
   "execution_count": null,
   "metadata": {},
   "outputs": [],
   "source": [
    "# Subtração entre variáveis\n",
    "numero_inteiro_1 - numero_decimal_1"
   ]
  },
  {
   "cell_type": "code",
   "execution_count": null,
   "metadata": {},
   "outputs": [],
   "source": [
    "# Subtração entre variável e número\n",
    "numero_decimal_2 - 10"
   ]
  },
  {
   "cell_type": "markdown",
   "metadata": {},
   "source": [
    "#### 3.3 - Multiplicação\n",
    "Sinal de asterisco `*`"
   ]
  },
  {
   "cell_type": "code",
   "execution_count": null,
   "metadata": {},
   "outputs": [],
   "source": [
    "# Multiplicação entre numeros\n",
    "5 * 5"
   ]
  },
  {
   "cell_type": "code",
   "execution_count": null,
   "metadata": {},
   "outputs": [],
   "source": [
    "# Multiplicação entre variáveis\n",
    "numero_inteiro_1 * numero_decimal_1"
   ]
  },
  {
   "cell_type": "code",
   "execution_count": null,
   "metadata": {},
   "outputs": [],
   "source": [
    "# Multiplicação entre variável e número\n",
    "numero_decimal_2 * 10"
   ]
  },
  {
   "cell_type": "markdown",
   "metadata": {},
   "source": [
    "#### 3.4 - Divisão\n",
    "Sinal de barra `/`"
   ]
  },
  {
   "cell_type": "code",
   "execution_count": null,
   "metadata": {},
   "outputs": [],
   "source": [
    "# Divisão entre numeros\n",
    "5 / 5"
   ]
  },
  {
   "cell_type": "code",
   "execution_count": null,
   "metadata": {},
   "outputs": [],
   "source": [
    "# Divisão entre variáveis\n",
    "numero_inteiro_1 / numero_decimal_1"
   ]
  },
  {
   "cell_type": "code",
   "execution_count": null,
   "metadata": {},
   "outputs": [],
   "source": [
    "# Divisão entre variável e número\n",
    "numero_decimal_2 / 10"
   ]
  },
  {
   "cell_type": "markdown",
   "metadata": {},
   "source": [
    "#### 3.5 - MOD (Resto da Divisão) \n",
    "Sinal de porcentagem  %\n",
    "#\n",
    "OBS: Para verificar se uma variável é par, verifique se o resto da divisão por 2 é 0  "
   ]
  },
  {
   "cell_type": "code",
   "execution_count": null,
   "metadata": {},
   "outputs": [],
   "source": [
    "# Resto da divisão entre numeros\n",
    "6 % 5"
   ]
  },
  {
   "cell_type": "code",
   "execution_count": null,
   "metadata": {},
   "outputs": [],
   "source": [
    "# Resto da divisão entre numeros\n",
    "5 % 5"
   ]
  },
  {
   "cell_type": "code",
   "execution_count": null,
   "metadata": {},
   "outputs": [],
   "source": [
    "# Resto da divisão entre numeros\n",
    "# Resto da divisão por 2 de um número par é 0\n",
    "10 % 2"
   ]
  },
  {
   "cell_type": "code",
   "execution_count": null,
   "metadata": {},
   "outputs": [],
   "source": [
    "# Resto da divisão entre numeros\n",
    "# Resto da divisão por 2 de um número ímpar é 1\n",
    "11 % 2"
   ]
  },
  {
   "cell_type": "code",
   "execution_count": null,
   "metadata": {},
   "outputs": [],
   "source": [
    "# Resto da divisão entre variáveis\n",
    "numero_inteiro_1 % numero_decimal_1"
   ]
  },
  {
   "cell_type": "code",
   "execution_count": null,
   "metadata": {},
   "outputs": [],
   "source": [
    "# Resto da divisão entre variável e número\n",
    "# A variável numero_inteiro_1 é par\n",
    "numero_inteiro_1 % 2"
   ]
  },
  {
   "cell_type": "markdown",
   "metadata": {},
   "source": [
    "#### 3.6 - Exponenciação\n",
    "\n",
    "Sinal são dois asteriscos `**`"
   ]
  },
  {
   "cell_type": "code",
   "execution_count": null,
   "metadata": {},
   "outputs": [],
   "source": [
    "# 2 elevado a 3\n",
    "2 ** 3"
   ]
  },
  {
   "cell_type": "code",
   "execution_count": null,
   "metadata": {},
   "outputs": [],
   "source": [
    "# Para quem não se lembra do que é exponencial, 2 elevado a 3 é igual a:\n",
    "2 * 2 * 2"
   ]
  },
  {
   "cell_type": "code",
   "execution_count": null,
   "metadata": {},
   "outputs": [],
   "source": [
    "# 2 elevado a 10\n",
    "2 ** 10"
   ]
  },
  {
   "cell_type": "code",
   "execution_count": null,
   "metadata": {},
   "outputs": [],
   "source": [
    "# 10 elevado a 2\n",
    "10 ** 2"
   ]
  },
  {
   "cell_type": "markdown",
   "metadata": {},
   "source": [
    "### 4 - Reatribuição de Variáveis numéricas\n",
    "\n",
    "O python permite reatribuir o valor das variáveis, inclusive, com uma referência a ela mesma."
   ]
  },
  {
   "cell_type": "code",
   "execution_count": null,
   "metadata": {},
   "outputs": [],
   "source": [
    "# Criação da variável \"numero\" com o valor atribuido 10\n",
    "numero = 10\n",
    "print(numero)"
   ]
  },
  {
   "cell_type": "code",
   "execution_count": null,
   "metadata": {},
   "outputs": [],
   "source": [
    "# Reatribuição do valor da variável \"numero\", de 10 para 20\n",
    "numero = 20\n",
    "print(numero)"
   ]
  },
  {
   "cell_type": "code",
   "execution_count": null,
   "metadata": {},
   "outputs": [],
   "source": [
    "# Reatribuição do valor da variável \"numero\", de 20 para 20 + 10\n",
    "numero = numero + 10\n",
    "print(numero)"
   ]
  },
  {
   "cell_type": "markdown",
   "metadata": {},
   "source": [
    "Na verdade, existe um atalho para isso. O Python permite realizar todas as operações matemáticas para a reatribuição de uma variável usando `+=` para adição, `-=` para subtração, `*=` para multiplocação, `/=` para divisão, `%=` para MOD e `**=` para exponenciação."
   ]
  },
  {
   "cell_type": "code",
   "execution_count": null,
   "metadata": {},
   "outputs": [],
   "source": [
    "# Criação da variável \"numero\" com o valor atribuido 2\n",
    "numero = 10\n",
    "print(numero)"
   ]
  },
  {
   "cell_type": "code",
   "execution_count": null,
   "metadata": {},
   "outputs": [],
   "source": [
    "# Adição\n",
    "# numero = numero + 2\n",
    "numero += 2\n",
    "print(numero)"
   ]
  },
  {
   "cell_type": "code",
   "execution_count": null,
   "metadata": {},
   "outputs": [],
   "source": [
    "# Subtração\n",
    "# numero = numero - 2\n",
    "numero -= 2\n",
    "print(numero)"
   ]
  },
  {
   "cell_type": "code",
   "execution_count": null,
   "metadata": {},
   "outputs": [],
   "source": [
    "# Multiplicação\n",
    "# numero = numero * 2\n",
    "numero *= 2\n",
    "print(numero)"
   ]
  },
  {
   "cell_type": "code",
   "execution_count": null,
   "metadata": {},
   "outputs": [],
   "source": [
    "# Divisão\n",
    "# numero = numero / 2\n",
    "numero /= 2\n",
    "print(numero)"
   ]
  },
  {
   "cell_type": "code",
   "execution_count": null,
   "metadata": {},
   "outputs": [],
   "source": [
    "# Exponenciação\n",
    "# numero = numero ** 2\n",
    "numero **= 2\n",
    "print(numero)"
   ]
  },
  {
   "cell_type": "code",
   "execution_count": null,
   "metadata": {},
   "outputs": [],
   "source": [
    "# MOD\n",
    "# numero = numero % 2\n",
    "numero %= 2\n",
    "print(numero)"
   ]
  },
  {
   "cell_type": "markdown",
   "metadata": {},
   "source": [
    "### 5 - Arredondamento de Casas Decimais\n",
    "\n",
    "Normalmente se usa a função round() para arredondar valores que serão exibidos. Não é recomendado usar esta função com valores que serão utilizados em cálculos matemáticos pois altera o valor final."
   ]
  },
  {
   "cell_type": "code",
   "execution_count": null,
   "metadata": {},
   "outputs": [],
   "source": [
    "numero_grande = 1.5947346784"
   ]
  },
  {
   "cell_type": "code",
   "execution_count": null,
   "metadata": {},
   "outputs": [],
   "source": [
    "# Arredondar o número para nenhuma casa decimal\n",
    "round(numero_grande)"
   ]
  },
  {
   "cell_type": "code",
   "execution_count": null,
   "metadata": {},
   "outputs": [],
   "source": [
    "# Arredondar o número para uma casa decimal\n",
    "round(numero_grande, 1)"
   ]
  },
  {
   "cell_type": "code",
   "execution_count": null,
   "metadata": {},
   "outputs": [],
   "source": [
    "# Arredondar o número para duas casas decimal\n",
    "round(numero_grande, 2)"
   ]
  },
  {
   "cell_type": "code",
   "execution_count": null,
   "metadata": {},
   "outputs": [],
   "source": [
    "# Arredondar o número para três casas decimal\n",
    "round(numero_grande, 3)"
   ]
  },
  {
   "cell_type": "code",
   "execution_count": null,
   "metadata": {},
   "outputs": [],
   "source": [
    "# Arredondar o número para quatro casas decimal\n",
    "round(numero_grande, 4)"
   ]
  },
  {
   "cell_type": "code",
   "execution_count": null,
   "metadata": {},
   "outputs": [],
   "source": [
    "# Arredondar o número para cinco casas decimal\n",
    "round(numero_grande, 5)"
   ]
  },
  {
   "cell_type": "code",
   "execution_count": null,
   "metadata": {},
   "outputs": [],
   "source": [
    "# Reatribuição da variável\n",
    "numero_grande = round(numero_grande, 2)\n",
    "print(numero_grande)"
   ]
  },
  {
   "cell_type": "markdown",
   "metadata": {},
   "source": [
    "### 6 - Exercícios de Fixação"
   ]
  },
  {
   "cell_type": "markdown",
   "metadata": {},
   "source": [
    "#### 6.1 - Cálculo do Imposto de Renda anual\n",
    "João é o responsável pelo marketing digital do CEUB e recebe R$15000/Mês e o imposto de renda que incide sobre o salário de João é  de 28%. \n",
    "``Determine quanto João paga anualmente de imposto de renda.``\n",
    "#\n",
    "Dicas:\n",
    "* Crie uma variável salario com valor de 15000;\n",
    "* Crie uma variável imposto com valor de 0.28 (0.28 representa 28%);\n",
    "* Crie uma variavel meses com o valor 12."
   ]
  },
  {
   "cell_type": "code",
   "execution_count": 4,
   "metadata": {},
   "outputs": [
    {
     "name": "stdout",
     "output_type": "stream",
     "text": [
      "50400.0\n"
     ]
    }
   ],
   "source": [
    "# Desenvolva sua resposta aqui \n",
    "salario_joao= 15000\n",
    "imposto= 0.28\n",
    "meses= 12\n",
    "valor_imposto_joao= salario_joao * imposto * meses\n",
    "print(valor_imposto_joao)"
   ]
  },
  {
   "cell_type": "markdown",
   "metadata": {},
   "source": [
    "#### 6.2 - Média de Idades\n",
    "Três primas Maria, Marina e Mariana possuem, respectivamente 15, 22 e 23 anos.\n",
    "#\n",
    "Crie uma variável para a idade de cada prima e, com estas variáveis, determine a média da idade das 3 primas."
   ]
  },
  {
   "cell_type": "code",
   "execution_count": 7,
   "metadata": {},
   "outputs": [
    {
     "name": "stdout",
     "output_type": "stream",
     "text": [
      "22.666666666666668\n"
     ]
    }
   ],
   "source": [
    "# Desenvolva sua resposta aqui \n",
    "maria_idade= 15\n",
    "marina_idade= 22\n",
    "mariana_idade= 23\n",
    "media_idade_maris= maria_idade = (marina_idade + mariana_idade + mariana_idade) /3\n",
    "print(media_idade_maris)"
   ]
  },
  {
   "cell_type": "markdown",
   "metadata": {},
   "source": [
    "#### - 6.3 Autonomia do fusca\n",
    "Jorge viajou no seu fusca e decidiu averiguar qual a autonomia dele.\n",
    "Jorge encheu o tanque do carro e viu que o odômetro estava marcando que o fusca já havia rodado, em toda a sua história, 200.152Km\n",
    "Após 7 horas de viagem, Jorge parou em outro posto de combustível, averiguou o odômetro novamente, que estava em 200.510km e, novamente encheu o tanque, verificando na bomba de combustível que foram colocados 34 Litros de gasolina no tanque.\n",
    "``Determine quantos Km/Litro o fusca de Jorge faz.``\n",
    "#\n",
    "Dicas:\n",
    "* Crie uma variável km_antigo com o valor antigo do odômetro;\n",
    "* Crie uma variável km_novo com o valor novo do odômetro;\n",
    "* Crie uma variável que receberá a quantidade de quilômetros percorridos;\n",
    "* Crie uma variavel litros com o valor da quantidade de litros que o fusca gastou de um posto de gasolina ao outro."
   ]
  },
  {
   "cell_type": "code",
   "execution_count": 10,
   "metadata": {},
   "outputs": [
    {
     "name": "stdout",
     "output_type": "stream",
     "text": [
      "10.529411764705882\n"
     ]
    }
   ],
   "source": [
    "# Desenvolva sua resposta aqui \n",
    "km_antigo= 200152\n",
    "km_novo= 200510\n",
    "km_percorridos= km_novo - km_antigo\n",
    "combustivel_viagem= 34\n",
    "autonomia_fusca= km_percorridos / combustivel_viagem\n",
    "print(autonomia_fusca)"
   ]
  },
  {
   "cell_type": "markdown",
   "metadata": {},
   "source": [
    "#### 6.4 - Velocidade média do fusca\n",
    "\n",
    "Com base nos valores da questão anterior, determine qual foi a velocidade média do fusca durante o trajeto de um posto de gasolina até o outro:"
   ]
  },
  {
   "cell_type": "code",
   "execution_count": 12,
   "metadata": {},
   "outputs": [
    {
     "name": "stdout",
     "output_type": "stream",
     "text": [
      "51.142857142857146\n"
     ]
    }
   ],
   "source": [
    "# Desenvolva sua resposta aqui \n",
    "espaco_viagem= 358\n",
    "tempo_viagem= 7 \n",
    "velocidade_media= espaco_viagem/tempo_viagem\n",
    "print(velocidade_media)"
   ]
  }
 ],
 "metadata": {
  "kernelspec": {
   "display_name": "Python 3",
   "language": "python",
   "name": "python3"
  },
  "language_info": {
   "codemirror_mode": {
    "name": "ipython",
    "version": 3
   },
   "file_extension": ".py",
   "mimetype": "text/x-python",
   "name": "python",
   "nbconvert_exporter": "python",
   "pygments_lexer": "ipython3",
   "version": "3.12.2"
  },
  "orig_nbformat": 4
 },
 "nbformat": 4,
 "nbformat_minor": 2
}
